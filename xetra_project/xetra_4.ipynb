{
 "cells": [
  {
   "cell_type": "markdown",
   "id": "f9b77aad",
   "metadata": {
    "collapsed": true
   },
   "source": [
    "\"\"\"\n",
    "\n",
    "DATA ENGINEERING ETL PIPELINE - XETRA DATASET\n",
    "\n",
    "4: Parametisation of extraction.\n",
    "\n",
    "Aim:\n",
    "Write a production ready ETL pipeline using python and pandas.\n",
    "\n",
    "Overview:\n",
    "Xetra is a German stock exchange based in Frankfurt operated by Deutsche Börse Group. \n",
    "Data related to daily trading activity is stored publicly on the Amazon S3 database. \n",
    "(Update - as of July 2022 the data is no longer available. An archival S3 database will be used) \n",
    "\n",
    "Task:\n",
    "Use jupyter notebook as a protoyping tool to extract and transform source data.\n",
    "Request and extract source data from cloud based web services.\n",
    "Use loops and iteration to read and consolidate multiple source files.\n",
    "Familiarise with pandas package functions to clean and transform output data. \n",
    "\n",
    "Below outlines the steps to be performed:\n",
    "    \n",
    "    1) Continuation of xetra_3 - transformed data via sorting, grouping and aggregation. \n",
    "    2) Parametise Amazon bucket data filtering using datetime functions.\n",
    "    3) Create datatime argument to extract multiple data objects within a single list comprehension.\n",
    "    4) Filter transformed output by specified argument date. \n",
    "    5) Print dataframe object.\n",
    "    \n",
    "\"\"\""
   ]
  },
  {
   "cell_type": "markdown",
   "id": "195e133f",
   "metadata": {},
   "source": [
    "Data Extraction"
   ]
  },
  {
   "cell_type": "code",
   "execution_count": 414,
   "id": "b66eb1d7",
   "metadata": {},
   "outputs": [],
   "source": [
    "import boto3 #AWS service management package.\n",
    "import pandas as pd #Data analysis library.\n",
    "from io import StringIO #String buffer to read CSV files.\n",
    "from datetime import datetime, timedelta #Facilitate calulations relating to day of trade. \n"
   ]
  },
  {
   "cell_type": "code",
   "execution_count": 424,
   "id": "b0d4ba9a",
   "metadata": {},
   "outputs": [
    {
     "data": {
      "text/plain": [
       "datetime.date(2022, 11, 30)"
      ]
     },
     "execution_count": 424,
     "metadata": {},
     "output_type": "execute_result"
    }
   ],
   "source": [
    "#Parametise data time filtering of amazon data bucket.  \n",
    "arg_date = '2022-12-01' #Define datetime argument.\n",
    "arg_dt_obj = datetime.strptime(arg_date, '%Y-%m-%d') #Parse to datetime object.\n",
    "\n",
    "#Trading calculations during data transformation will require previous day's data.\n",
    "arg_dt_obj = arg_dt_obj.date()-timedelta(days=1) #Force argument date to use previous calender day. \n",
    "arg_dt_obj"
   ]
  },
  {
   "cell_type": "code",
   "execution_count": 425,
   "id": "999ae088",
   "metadata": {},
   "outputs": [],
   "source": [
    "s3 = boto3.resource('s3') #Use the Amazon S3 cloud storage resource.\n",
    "bucket = s3.Bucket('xetra-1234') #Create instance of the \"xetra\" data bucket."
   ]
  },
  {
   "cell_type": "code",
   "execution_count": 436,
   "id": "c452b754",
   "metadata": {},
   "outputs": [],
   "source": [
    "#Filter and extract bucket data based on date argument.\n",
    "bucket_objects = [obj for obj in bucket.objects.all() if (datetime.strptime(obj.key.split('/')[0], '%Y-%m-%d').date()>= arg_dt_obj)]"
   ]
  },
  {
   "cell_type": "code",
   "execution_count": 427,
   "id": "c9799381",
   "metadata": {},
   "outputs": [],
   "source": [
    "#Read csv body of dataset into pandas dataframe - initialisation step:\n",
    "csv_obj_init = bucket.Object(key=bucket_objects[0].key).get().get('Body') #Initialise first element of csv object.\n",
    "csv_obj_init = csv_obj_init.read().decode('utf-8') #Store into csv object in utf-8 format.\n",
    "data = StringIO(csv_obj_init) #Convert csv object from streaming body to string data.\n",
    "df_init = pd.read_csv(data, delimiter=',') #Read data into pandas data frame.\n",
    "df_all = pd.DataFrame(columns=df_init.columns) #Initialise df_all with df_init columns."
   ]
  },
  {
   "cell_type": "code",
   "execution_count": 430,
   "id": "68ee78ae",
   "metadata": {},
   "outputs": [],
   "source": [
    "#Read csv body of dataset into pandas dataframe - iteration step:\n",
    "for obj in bucket_objects:\n",
    "    csv_obj = bucket.Object(key=obj.key).get().get('Body') #Read data element from list.\n",
    "    csv_obj = csv_obj.read().decode('utf-8') #Store into to csv object in utf-8 format.\n",
    "    data = StringIO(csv_obj) #Convert csv object to string data.\n",
    "    df = pd.read_csv(data, delimiter=',') #Read data as pandas data frame.\n",
    "    df_all = pd.concat([df, df_all]) #Concatenate data to one master dataframe."
   ]
  },
  {
   "cell_type": "code",
   "execution_count": 431,
   "id": "4cba0345",
   "metadata": {},
   "outputs": [
    {
     "data": {
      "text/plain": [
       "'ISIN,Mnemonic,SecurityDesc,SecurityType,Currency,SecurityID,Date,Time,StartPrice,MaxPrice,MinPrice,EndPrice,TradedVolume,NumberOfTrades\\n'"
      ]
     },
     "execution_count": 431,
     "metadata": {},
     "output_type": "execute_result"
    }
   ],
   "source": [
    "csv_obj #Print csv object to view columns."
   ]
  },
  {
   "cell_type": "markdown",
   "id": "82c5ad0c",
   "metadata": {},
   "source": [
    "Data Cleansing"
   ]
  },
  {
   "cell_type": "code",
   "execution_count": 432,
   "id": "dfc15204",
   "metadata": {},
   "outputs": [],
   "source": [
    "#Remove unecessary columns by storing required columns in variable and passing as .loc function argument. \n",
    "columns_use = ['ISIN', 'Date', 'Time', 'StartPrice', 'MaxPrice', 'MinPrice', 'EndPrice', 'TradedVolume']\n",
    "df_all = df_all.loc[:,columns_use]"
   ]
  },
  {
   "cell_type": "code",
   "execution_count": 433,
   "id": "2572f2be",
   "metadata": {},
   "outputs": [
    {
     "data": {
      "text/plain": [
       "(981058, 8)"
      ]
     },
     "execution_count": 433,
     "metadata": {},
     "output_type": "execute_result"
    }
   ],
   "source": [
    "df_all.dropna(inplace=True) #Drop all missing values from the dataset.\n",
    "df_all = df_all.reset_index(drop=True) #Reset the column index.\n",
    "df_all.shape #Check if there was any filtering (should match table dimensions)"
   ]
  },
  {
   "cell_type": "markdown",
   "id": "b7a7137f",
   "metadata": {},
   "source": [
    "Data Transformation"
   ]
  },
  {
   "cell_type": "code",
   "execution_count": 434,
   "id": "d5423335",
   "metadata": {},
   "outputs": [],
   "source": [
    "#Get opening price per ISIN on a particular day.  \n",
    "df_all['OpeningPrice'] = df_all.sort_values('Time').groupby(['ISIN','Date'])['StartPrice'].transform('first')\n",
    "\n",
    "#Get closing price per ISIN on a particular day. \n",
    "df_all['ClosingPrice'] = df_all.sort_values('Time').groupby(['ISIN','Date'])['EndPrice'].transform('last')\n",
    "\n",
    "#Aggregate data per ISIN on a particular day.\n",
    "df_all = df_all.groupby(['ISIN','Date'], as_index = False).agg(OpeningPriceEUR = ('OpeningPrice', 'min'),ClosingPriceEUR = ('ClosingPrice', 'min'), MinPriceEUR = ('MinPrice', 'min'), MaxPriceEUR = ('MaxPrice', 'max'), DailyTradedVolume = ('TradedVolume', 'sum'))\n",
    "\n",
    "#Percentage change in closing price between current and pervious day of trade. \n",
    "df_all['PrevClosingPriceEUR'] = df_all.sort_values(by = 'Date').groupby(['ISIN'])['ClosingPriceEUR'].shift(1)\n",
    "df_all['DeltaPCP%'] = (df_all['ClosingPriceEUR'] - df_all['PrevClosingPriceEUR'])/df_all['PrevClosingPriceEUR']*100\n",
    "\n",
    "#Cleanse aggregated data. \n",
    "df_all.drop(columns = ['PrevClosingPriceEUR'], inplace = True) \n",
    "df_all = df_all.round(decimals = 2)\n",
    "\n",
    "#Filter output by specified by argument date\n",
    "df_all = df_all[df_all['Date']>=arg_date]\n"
   ]
  },
  {
   "cell_type": "code",
   "execution_count": 435,
   "id": "6683134d",
   "metadata": {
    "scrolled": true
   },
   "outputs": [
    {
     "data": {
      "text/html": [
       "<div>\n",
       "<style scoped>\n",
       "    .dataframe tbody tr th:only-of-type {\n",
       "        vertical-align: middle;\n",
       "    }\n",
       "\n",
       "    .dataframe tbody tr th {\n",
       "        vertical-align: top;\n",
       "    }\n",
       "\n",
       "    .dataframe thead th {\n",
       "        text-align: right;\n",
       "    }\n",
       "</style>\n",
       "<table border=\"1\" class=\"dataframe\">\n",
       "  <thead>\n",
       "    <tr style=\"text-align: right;\">\n",
       "      <th></th>\n",
       "      <th>ISIN</th>\n",
       "      <th>Date</th>\n",
       "      <th>OpeningPriceEUR</th>\n",
       "      <th>ClosingPriceEUR</th>\n",
       "      <th>MinPriceEUR</th>\n",
       "      <th>MaxPriceEUR</th>\n",
       "      <th>DailyTradedVolume</th>\n",
       "      <th>DeltaPCP%</th>\n",
       "    </tr>\n",
       "  </thead>\n",
       "  <tbody>\n",
       "    <tr>\n",
       "      <th>1</th>\n",
       "      <td>AT000000STR1</td>\n",
       "      <td>2022-12-01</td>\n",
       "      <td>38.10</td>\n",
       "      <td>38.50</td>\n",
       "      <td>38.10</td>\n",
       "      <td>38.60</td>\n",
       "      <td>1336</td>\n",
       "      <td>4.90</td>\n",
       "    </tr>\n",
       "    <tr>\n",
       "      <th>2</th>\n",
       "      <td>AT000000STR1</td>\n",
       "      <td>2022-12-02</td>\n",
       "      <td>38.85</td>\n",
       "      <td>38.60</td>\n",
       "      <td>38.55</td>\n",
       "      <td>38.95</td>\n",
       "      <td>5194</td>\n",
       "      <td>0.26</td>\n",
       "    </tr>\n",
       "    <tr>\n",
       "      <th>3</th>\n",
       "      <td>AT000000STR1</td>\n",
       "      <td>2022-12-03</td>\n",
       "      <td>39.00</td>\n",
       "      <td>38.60</td>\n",
       "      <td>38.60</td>\n",
       "      <td>39.00</td>\n",
       "      <td>132</td>\n",
       "      <td>0.00</td>\n",
       "    </tr>\n",
       "    <tr>\n",
       "      <th>5</th>\n",
       "      <td>AT00000FACC2</td>\n",
       "      <td>2022-12-01</td>\n",
       "      <td>7.82</td>\n",
       "      <td>8.00</td>\n",
       "      <td>7.75</td>\n",
       "      <td>8.12</td>\n",
       "      <td>3660</td>\n",
       "      <td>-6.65</td>\n",
       "    </tr>\n",
       "    <tr>\n",
       "      <th>6</th>\n",
       "      <td>AT00000FACC2</td>\n",
       "      <td>2022-12-02</td>\n",
       "      <td>7.85</td>\n",
       "      <td>7.85</td>\n",
       "      <td>7.85</td>\n",
       "      <td>7.85</td>\n",
       "      <td>0</td>\n",
       "      <td>-1.88</td>\n",
       "    </tr>\n",
       "    <tr>\n",
       "      <th>...</th>\n",
       "      <td>...</td>\n",
       "      <td>...</td>\n",
       "      <td>...</td>\n",
       "      <td>...</td>\n",
       "      <td>...</td>\n",
       "      <td>...</td>\n",
       "      <td>...</td>\n",
       "      <td>...</td>\n",
       "    </tr>\n",
       "    <tr>\n",
       "      <th>12854</th>\n",
       "      <td>XS2314660700</td>\n",
       "      <td>2022-12-02</td>\n",
       "      <td>20.51</td>\n",
       "      <td>20.43</td>\n",
       "      <td>20.42</td>\n",
       "      <td>20.65</td>\n",
       "      <td>634</td>\n",
       "      <td>-0.27</td>\n",
       "    </tr>\n",
       "    <tr>\n",
       "      <th>12855</th>\n",
       "      <td>XS2314660700</td>\n",
       "      <td>2022-12-03</td>\n",
       "      <td>20.42</td>\n",
       "      <td>20.20</td>\n",
       "      <td>20.20</td>\n",
       "      <td>20.51</td>\n",
       "      <td>542</td>\n",
       "      <td>-1.15</td>\n",
       "    </tr>\n",
       "    <tr>\n",
       "      <th>12857</th>\n",
       "      <td>XS2376095068</td>\n",
       "      <td>2022-12-01</td>\n",
       "      <td>34.08</td>\n",
       "      <td>34.66</td>\n",
       "      <td>34.08</td>\n",
       "      <td>34.67</td>\n",
       "      <td>7840</td>\n",
       "      <td>-5.04</td>\n",
       "    </tr>\n",
       "    <tr>\n",
       "      <th>12858</th>\n",
       "      <td>XS2376095068</td>\n",
       "      <td>2022-12-02</td>\n",
       "      <td>33.97</td>\n",
       "      <td>32.88</td>\n",
       "      <td>32.88</td>\n",
       "      <td>34.10</td>\n",
       "      <td>1200</td>\n",
       "      <td>-5.13</td>\n",
       "    </tr>\n",
       "    <tr>\n",
       "      <th>12859</th>\n",
       "      <td>XS2376095068</td>\n",
       "      <td>2022-12-03</td>\n",
       "      <td>32.75</td>\n",
       "      <td>32.20</td>\n",
       "      <td>32.20</td>\n",
       "      <td>32.75</td>\n",
       "      <td>0</td>\n",
       "      <td>-2.07</td>\n",
       "    </tr>\n",
       "  </tbody>\n",
       "</table>\n",
       "<p>9629 rows × 8 columns</p>\n",
       "</div>"
      ],
      "text/plain": [
       "               ISIN        Date  OpeningPriceEUR  ClosingPriceEUR  \\\n",
       "1      AT000000STR1  2022-12-01            38.10            38.50   \n",
       "2      AT000000STR1  2022-12-02            38.85            38.60   \n",
       "3      AT000000STR1  2022-12-03            39.00            38.60   \n",
       "5      AT00000FACC2  2022-12-01             7.82             8.00   \n",
       "6      AT00000FACC2  2022-12-02             7.85             7.85   \n",
       "...             ...         ...              ...              ...   \n",
       "12854  XS2314660700  2022-12-02            20.51            20.43   \n",
       "12855  XS2314660700  2022-12-03            20.42            20.20   \n",
       "12857  XS2376095068  2022-12-01            34.08            34.66   \n",
       "12858  XS2376095068  2022-12-02            33.97            32.88   \n",
       "12859  XS2376095068  2022-12-03            32.75            32.20   \n",
       "\n",
       "       MinPriceEUR  MaxPriceEUR DailyTradedVolume  DeltaPCP%  \n",
       "1            38.10        38.60              1336       4.90  \n",
       "2            38.55        38.95              5194       0.26  \n",
       "3            38.60        39.00               132       0.00  \n",
       "5             7.75         8.12              3660      -6.65  \n",
       "6             7.85         7.85                 0      -1.88  \n",
       "...            ...          ...               ...        ...  \n",
       "12854        20.42        20.65               634      -0.27  \n",
       "12855        20.20        20.51               542      -1.15  \n",
       "12857        34.08        34.67              7840      -5.04  \n",
       "12858        32.88        34.10              1200      -5.13  \n",
       "12859        32.20        32.75                 0      -2.07  \n",
       "\n",
       "[9629 rows x 8 columns]"
      ]
     },
     "execution_count": 435,
     "metadata": {},
     "output_type": "execute_result"
    }
   ],
   "source": [
    "#Print transformed data output.\n",
    "df_all"
   ]
  }
 ],
 "metadata": {
  "kernelspec": {
   "display_name": "Python 3 (ipykernel)",
   "language": "python",
   "name": "python3"
  },
  "language_info": {
   "codemirror_mode": {
    "name": "ipython",
    "version": 3
   },
   "file_extension": ".py",
   "mimetype": "text/x-python",
   "name": "python",
   "nbconvert_exporter": "python",
   "pygments_lexer": "ipython3",
   "version": "3.10.8"
  }
 },
 "nbformat": 4,
 "nbformat_minor": 5
}
