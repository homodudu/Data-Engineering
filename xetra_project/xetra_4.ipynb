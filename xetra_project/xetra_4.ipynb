{
 "cells": [
  {
   "cell_type": "markdown",
   "id": "dba3dbf0",
   "metadata": {
    "collapsed": true
   },
   "source": [
    "\"\"\"\n",
    "\n",
    "DATA ENGINEERING ETL PIPELINE - XETRA DATASET\n",
    "\n",
    "4: Parametisation of data extraction.\n",
    "\n",
    "Aim:\n",
    "Write a production ready ETL pipeline using python and pandas.\n",
    "\n",
    "Overview:\n",
    "Xetra is a German stock exchange based in Frankfurt operated by Deutsche Börse Group. \n",
    "Data related to daily trading activity is stored publicly on the Amazon S3 database. \n",
    "(Update - as of July 2022 the data is no longer available. An archival S3 database will be used) \n",
    "\n",
    "Task:\n",
    "Use jupyter notebook as a protoyping tool to extract and transform source data.\n",
    "Request and extract source data from cloud based web services.\n",
    "Use loops and iteration to read and consolidate multiple source files.\n",
    "Familiarise with pandas package functions to clean and transform output data. \n",
    "\n",
    "Below outlines the steps to be performed:\n",
    "    \n",
    "    1) Continuation of xetra_3:\n",
    "        - Transformation of data via sorting, grouping and aggregation. \n",
    "    2) Parametise filtering of xetra data bucket using datetime functions. \n",
    "    \n",
    "    \n",
    "\n",
    "    \n",
    "\"\"\""
   ]
  },
  {
   "cell_type": "code",
   "execution_count": null,
   "id": "8214ef11",
   "metadata": {},
   "outputs": [],
   "source": [
    "arg_date = '2022-01-17' #Date argument to filter xetra data bucket.\n",
    "arg_date_dt = datetime.strptime(arg_date) "
   ]
  },
  {
   "cell_type": "markdown",
   "id": "8ab1a4e3",
   "metadata": {},
   "source": [
    "Data Extraction"
   ]
  },
  {
   "cell_type": "code",
   "execution_count": 350,
   "id": "b66eb1d7",
   "metadata": {},
   "outputs": [],
   "source": [
    "import boto3 #AWS service management package.\n",
    "import pandas as pd #Data analysis library.\n",
    "from io import StringIO #String buffer to read CSV files.\n",
    "from datetime import dateime, timedelta #Facilitate calulations relating to day of trade. \n"
   ]
  },
  {
   "cell_type": "code",
   "execution_count": 351,
   "id": "999ae088",
   "metadata": {},
   "outputs": [],
   "source": [
    "s3 = boto3.resource('s3') #Use the Amazon S3 cloud storage resource.\n",
    "bucket = s3.Bucket('xetra-1234') #Create instance of the \"xetra\" data bucket."
   ]
  },
  {
   "cell_type": "code",
   "execution_count": 352,
   "id": "c452b754",
   "metadata": {},
   "outputs": [],
   "source": [
    "bucket_obj1 = bucket.objects.filter(Prefix='2022-01-28/') #Filter by date and store data as \"bucket_obj1\".\n",
    "bucket_obj2 = bucket.objects.filter(Prefix='2022-02-28/') #Filter by date and store data as \"bucket_obj2\".\n",
    "bucket_objects = [obj for obj in bucket_obj1] + [obj for obj in bucket_obj2]  #Store data into bucket list."
   ]
  },
  {
   "cell_type": "code",
   "execution_count": 353,
   "id": "c9799381",
   "metadata": {},
   "outputs": [],
   "source": [
    "#Read csv body of dataset into pandas dataframe - initialisation step:\n",
    "csv_obj_init = bucket.Object(key=bucket_objects[0].key).get().get('Body') #Initialise first element of csv object.\n",
    "csv_obj_init = csv_obj_init.read().decode('utf-8') #Store into csv object in utf-8 format.\n",
    "data = StringIO(csv_obj_init) #Convert csv object from streaming body to string data.\n",
    "df_init = pd.read_csv(data, delimiter=',') #Read data into pandas data frame.\n",
    "df_all = pd.DataFrame(columns=df_init.columns) #Initialise df_all with df_init columns."
   ]
  },
  {
   "cell_type": "code",
   "execution_count": 354,
   "id": "68ee78ae",
   "metadata": {},
   "outputs": [],
   "source": [
    "#Read csv body of dataset into pandas dataframe - iteration step:\n",
    "for obj in bucket_objects:\n",
    "    csv_obj = bucket.Object(key=obj.key).get().get('Body') #Read data element from list.\n",
    "    csv_obj = csv_obj.read().decode('utf-8') #Store into to csv object in utf-8 format.\n",
    "    data = StringIO(csv_obj) #Convert csv object to string data.\n",
    "    df = pd.read_csv(data, delimiter=',') #Read data as pandas data frame.\n",
    "    df_all = pd.concat([df, df_all]) #Concatenate data to one master dataframe."
   ]
  },
  {
   "cell_type": "code",
   "execution_count": 355,
   "id": "4cba0345",
   "metadata": {},
   "outputs": [
    {
     "data": {
      "text/plain": [
       "'ISIN,Mnemonic,SecurityDesc,SecurityType,Currency,SecurityID,Date,Time,StartPrice,MaxPrice,MinPrice,EndPrice,TradedVolume,NumberOfTrades\\r\\n'"
      ]
     },
     "execution_count": 355,
     "metadata": {},
     "output_type": "execute_result"
    }
   ],
   "source": [
    "csv_obj #Print csv object to view columns."
   ]
  },
  {
   "cell_type": "markdown",
   "id": "bd5d9b0c",
   "metadata": {},
   "source": [
    "Data Cleansing"
   ]
  },
  {
   "cell_type": "code",
   "execution_count": 356,
   "id": "dfc15204",
   "metadata": {},
   "outputs": [],
   "source": [
    "#Remove unecessary columns by storing required columns in variable and passing as .loc function argument. \n",
    "columns_use = ['ISIN', 'Date', 'Time', 'StartPrice', 'MaxPrice', 'MinPrice', 'EndPrice', 'TradedVolume']\n",
    "df_all = df_all.loc[:,columns_use]"
   ]
  },
  {
   "cell_type": "code",
   "execution_count": 357,
   "id": "2572f2be",
   "metadata": {},
   "outputs": [
    {
     "data": {
      "text/plain": [
       "(257248, 8)"
      ]
     },
     "execution_count": 357,
     "metadata": {},
     "output_type": "execute_result"
    }
   ],
   "source": [
    "df_all.dropna(inplace=True) #Drop all missing values from the dataset.\n",
    "df_all = df_all.reset_index(drop=True) #Reset the column index.\n",
    "df_all.shape #Check if there was any filtering (should match table dimensions)"
   ]
  },
  {
   "cell_type": "markdown",
   "id": "1cd8483f",
   "metadata": {},
   "source": [
    "Data Transformation"
   ]
  },
  {
   "cell_type": "code",
   "execution_count": 358,
   "id": "46a5846e",
   "metadata": {},
   "outputs": [],
   "source": [
    "#Get opening price per ISIN on a particular day.  \n",
    "df_all['OpeningPrice'] = df_all.sort_values('Time').groupby(['ISIN','Date'])['StartPrice'].transform('first')\n",
    "\n",
    "#Get closing price per ISIN on a particular day. \n",
    "df_all['ClosingPrice'] = df_all.sort_values('Time').groupby(['ISIN','Date'])['EndPrice'].transform('last')\n",
    "\n",
    "#Aggregate data per ISIN on a particular day.\n",
    "df_all = df_all.groupby(['ISIN','Date'], as_index = False).agg(OpeningPriceEUR = ('OpeningPrice', 'min'),ClosingPriceEUR = ('ClosingPrice', 'min'), MinPriceEUR = ('MinPrice', 'min'), MaxPriceEUR = ('MaxPrice', 'max'), DailyTradedVolume = ('TradedVolume', 'sum'))\n",
    "\n",
    "#Percentage change in closing price between current and pervious day of trade. \n",
    "df_all['PrevClosingPriceEUR'] = df_all.sort_values(by = 'Date').groupby(['ISIN'])['ClosingPriceEUR'].shift(1)\n",
    "df_all['DeltaPCP%'] = (df_all['ClosingPriceEUR'] - df_all['PrevClosingPriceEUR'])/df_all['PrevClosingPriceEUR']*100\n",
    "\n",
    "#Cleanse aggregated data. \n",
    "df_all.drop(columns = ['PrevClosingPriceEUR'], inplace = True) \n",
    "df_all = df_all.round(decimals = 2)\n"
   ]
  },
  {
   "cell_type": "code",
   "execution_count": 359,
   "id": "65adfe05",
   "metadata": {
    "scrolled": true
   },
   "outputs": [
    {
     "data": {
      "text/html": [
       "<div>\n",
       "<style scoped>\n",
       "    .dataframe tbody tr th:only-of-type {\n",
       "        vertical-align: middle;\n",
       "    }\n",
       "\n",
       "    .dataframe tbody tr th {\n",
       "        vertical-align: top;\n",
       "    }\n",
       "\n",
       "    .dataframe thead th {\n",
       "        text-align: right;\n",
       "    }\n",
       "</style>\n",
       "<table border=\"1\" class=\"dataframe\">\n",
       "  <thead>\n",
       "    <tr style=\"text-align: right;\">\n",
       "      <th></th>\n",
       "      <th>ISIN</th>\n",
       "      <th>Date</th>\n",
       "      <th>OpeningPriceEUR</th>\n",
       "      <th>ClosingPriceEUR</th>\n",
       "      <th>MinPriceEUR</th>\n",
       "      <th>MaxPriceEUR</th>\n",
       "      <th>DailyTradedVolume</th>\n",
       "      <th>DeltaPCP%</th>\n",
       "    </tr>\n",
       "  </thead>\n",
       "  <tbody>\n",
       "    <tr>\n",
       "      <th>0</th>\n",
       "      <td>AT000000STR1</td>\n",
       "      <td>2022-01-28</td>\n",
       "      <td>38.05</td>\n",
       "      <td>37.00</td>\n",
       "      <td>37.00</td>\n",
       "      <td>38.05</td>\n",
       "      <td>456</td>\n",
       "      <td>NaN</td>\n",
       "    </tr>\n",
       "    <tr>\n",
       "      <th>1</th>\n",
       "      <td>AT000000STR1</td>\n",
       "      <td>2022-02-28</td>\n",
       "      <td>36.60</td>\n",
       "      <td>36.70</td>\n",
       "      <td>35.75</td>\n",
       "      <td>36.70</td>\n",
       "      <td>1773</td>\n",
       "      <td>-0.81</td>\n",
       "    </tr>\n",
       "    <tr>\n",
       "      <th>2</th>\n",
       "      <td>AT00000FACC2</td>\n",
       "      <td>2022-01-28</td>\n",
       "      <td>7.66</td>\n",
       "      <td>7.52</td>\n",
       "      <td>7.52</td>\n",
       "      <td>7.66</td>\n",
       "      <td>610</td>\n",
       "      <td>NaN</td>\n",
       "    </tr>\n",
       "    <tr>\n",
       "      <th>3</th>\n",
       "      <td>AT00000FACC2</td>\n",
       "      <td>2022-02-28</td>\n",
       "      <td>8.05</td>\n",
       "      <td>8.57</td>\n",
       "      <td>7.87</td>\n",
       "      <td>8.57</td>\n",
       "      <td>10205</td>\n",
       "      <td>13.96</td>\n",
       "    </tr>\n",
       "    <tr>\n",
       "      <th>4</th>\n",
       "      <td>AT0000606306</td>\n",
       "      <td>2022-01-28</td>\n",
       "      <td>25.02</td>\n",
       "      <td>24.66</td>\n",
       "      <td>24.66</td>\n",
       "      <td>25.10</td>\n",
       "      <td>213</td>\n",
       "      <td>NaN</td>\n",
       "    </tr>\n",
       "    <tr>\n",
       "      <th>...</th>\n",
       "      <td>...</td>\n",
       "      <td>...</td>\n",
       "      <td>...</td>\n",
       "      <td>...</td>\n",
       "      <td>...</td>\n",
       "      <td>...</td>\n",
       "      <td>...</td>\n",
       "      <td>...</td>\n",
       "    </tr>\n",
       "    <tr>\n",
       "      <th>6395</th>\n",
       "      <td>XS2314660700</td>\n",
       "      <td>2022-01-28</td>\n",
       "      <td>20.33</td>\n",
       "      <td>20.25</td>\n",
       "      <td>20.05</td>\n",
       "      <td>20.33</td>\n",
       "      <td>58</td>\n",
       "      <td>NaN</td>\n",
       "    </tr>\n",
       "    <tr>\n",
       "      <th>6396</th>\n",
       "      <td>XS2314660700</td>\n",
       "      <td>2022-02-28</td>\n",
       "      <td>22.26</td>\n",
       "      <td>21.92</td>\n",
       "      <td>21.92</td>\n",
       "      <td>22.28</td>\n",
       "      <td>0</td>\n",
       "      <td>8.26</td>\n",
       "    </tr>\n",
       "    <tr>\n",
       "      <th>6397</th>\n",
       "      <td>XS2376095068</td>\n",
       "      <td>2022-01-28</td>\n",
       "      <td>32.99</td>\n",
       "      <td>33.23</td>\n",
       "      <td>32.77</td>\n",
       "      <td>33.23</td>\n",
       "      <td>0</td>\n",
       "      <td>NaN</td>\n",
       "    </tr>\n",
       "    <tr>\n",
       "      <th>6398</th>\n",
       "      <td>XS2376095068</td>\n",
       "      <td>2022-02-28</td>\n",
       "      <td>34.29</td>\n",
       "      <td>36.50</td>\n",
       "      <td>34.06</td>\n",
       "      <td>36.50</td>\n",
       "      <td>1000</td>\n",
       "      <td>9.84</td>\n",
       "    </tr>\n",
       "    <tr>\n",
       "      <th>6399</th>\n",
       "      <td>XS2434891219</td>\n",
       "      <td>2022-02-28</td>\n",
       "      <td>3.44</td>\n",
       "      <td>3.66</td>\n",
       "      <td>3.42</td>\n",
       "      <td>3.66</td>\n",
       "      <td>0</td>\n",
       "      <td>NaN</td>\n",
       "    </tr>\n",
       "  </tbody>\n",
       "</table>\n",
       "<p>6400 rows × 8 columns</p>\n",
       "</div>"
      ],
      "text/plain": [
       "              ISIN        Date  OpeningPriceEUR  ClosingPriceEUR  MinPriceEUR  \\\n",
       "0     AT000000STR1  2022-01-28            38.05            37.00        37.00   \n",
       "1     AT000000STR1  2022-02-28            36.60            36.70        35.75   \n",
       "2     AT00000FACC2  2022-01-28             7.66             7.52         7.52   \n",
       "3     AT00000FACC2  2022-02-28             8.05             8.57         7.87   \n",
       "4     AT0000606306  2022-01-28            25.02            24.66        24.66   \n",
       "...            ...         ...              ...              ...          ...   \n",
       "6395  XS2314660700  2022-01-28            20.33            20.25        20.05   \n",
       "6396  XS2314660700  2022-02-28            22.26            21.92        21.92   \n",
       "6397  XS2376095068  2022-01-28            32.99            33.23        32.77   \n",
       "6398  XS2376095068  2022-02-28            34.29            36.50        34.06   \n",
       "6399  XS2434891219  2022-02-28             3.44             3.66         3.42   \n",
       "\n",
       "      MaxPriceEUR DailyTradedVolume  DeltaPCP%  \n",
       "0           38.05               456        NaN  \n",
       "1           36.70              1773      -0.81  \n",
       "2            7.66               610        NaN  \n",
       "3            8.57             10205      13.96  \n",
       "4           25.10               213        NaN  \n",
       "...           ...               ...        ...  \n",
       "6395        20.33                58        NaN  \n",
       "6396        22.28                 0       8.26  \n",
       "6397        33.23                 0        NaN  \n",
       "6398        36.50              1000       9.84  \n",
       "6399         3.66                 0        NaN  \n",
       "\n",
       "[6400 rows x 8 columns]"
      ]
     },
     "execution_count": 359,
     "metadata": {},
     "output_type": "execute_result"
    }
   ],
   "source": [
    "#Print transformed data output.\n",
    "df_all"
   ]
  }
 ],
 "metadata": {
  "kernelspec": {
   "display_name": "Python 3 (ipykernel)",
   "language": "python",
   "name": "python3"
  },
  "language_info": {
   "codemirror_mode": {
    "name": "ipython",
    "version": 3
   },
   "file_extension": ".py",
   "mimetype": "text/x-python",
   "name": "python",
   "nbconvert_exporter": "python",
   "pygments_lexer": "ipython3",
   "version": "3.10.8"
  }
 },
 "nbformat": 4,
 "nbformat_minor": 5
}
