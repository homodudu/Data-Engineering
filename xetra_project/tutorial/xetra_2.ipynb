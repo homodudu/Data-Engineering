{
 "cells": [
  {
   "cell_type": "markdown",
   "id": "7f9b72f6",
   "metadata": {
    "collapsed": true
   },
   "source": [
    "\"\"\"\n",
    "\n",
    "DATA ENGINEERING ETL PIPELINE - XETRA DATASET\n",
    "\n",
    "2: Reading multiple files, cleansing data.\n",
    "\n",
    "Aim:\n",
    "Write a production ready ETL pipeline using python and pandas.\n",
    "\n",
    "Overview:\n",
    "Xetra is a German stock exchange based in Frankfurt operated by Deutsche Börse Group. \n",
    "Data related to daily trading activity is stored publicly on the Amazon S3 database. \n",
    "(Update - as of July 2022 the data is no longer available. An archival S3 database will be used) \n",
    "\n",
    "Task:\n",
    "Use jupyter notebook as a protoyping tool to extract and transform source data.\n",
    "Request and extract source data from cloud based web services.\n",
    "Use loops and iteration to read and consolidate multiple source files.\n",
    "Familiarise with pandas package functions to clean and transform output data. \n",
    "\n",
    "Below outlines the steps to be performed:\n",
    "    \n",
    "    1)Continuation of xetra_1 - requested trading data from Amazon S3 bucket 'xetra-1234'.\n",
    "    2) Filter multiple xetra buckets by date concatenate data elements into bucket list.\n",
    "    3) Extract body of data (csv) and read into into pandas dataframe:\n",
    "        - Initialisation step, where csv column template is taken from first element of bucket list.\n",
    "        - Iteration step, where remaining list elements are read and appended to pandas dataframe. \n",
    "    4) Cleanse data by dropping unecessary rows or columns.  \n",
    "    5) Print transfomed dataframe object.\n",
    "    \n",
    "\"\"\""
   ]
  },
  {
   "cell_type": "markdown",
   "id": "32e907cc",
   "metadata": {},
   "source": [
    "Data Extraction"
   ]
  },
  {
   "cell_type": "code",
   "execution_count": 26,
   "id": "b66eb1d7",
   "metadata": {},
   "outputs": [],
   "source": [
    "import boto3 #AWS service management package.\n",
    "import pandas as pd #Data analysis library.\n",
    "from io import StringIO #String buffer to read CSV files."
   ]
  },
  {
   "cell_type": "code",
   "execution_count": 27,
   "id": "999ae088",
   "metadata": {},
   "outputs": [],
   "source": [
    "s3 = boto3.resource('s3') #Use the Amazon S3 cloud storage resource.\n",
    "bucket = s3.Bucket('xetra-1234') #Create instance of the \"xetra\" data bucket."
   ]
  },
  {
   "cell_type": "code",
   "execution_count": 28,
   "id": "c452b754",
   "metadata": {},
   "outputs": [],
   "source": [
    "bucket_obj1 = bucket.objects.filter(Prefix='2022-01-28/') #Filter by date and store data as \"bucket_obj1\".\n",
    "bucket_obj2 = bucket.objects.filter(Prefix='2022-02-28/') #Filter by date and store data as \"bucket_obj2\".\n",
    "bucket_objects = [obj for obj in bucket_obj1] + [obj for obj in bucket_obj2]  #Store data into bucket list."
   ]
  },
  {
   "cell_type": "code",
   "execution_count": 29,
   "id": "c9799381",
   "metadata": {},
   "outputs": [],
   "source": [
    "#Read csv body of dataset into pandas dataframe - initialisation step:\n",
    "csv_obj_init = bucket.Object(key=bucket_objects[0].key).get().get('Body') #Initialise first element of csv object.\n",
    "csv_obj_init = csv_obj_init.read().decode('utf-8') #Store into csv object in utf-8 format.\n",
    "data = StringIO(csv_obj_init) #Convert csv object from streaming body to string data.\n",
    "df_init = pd.read_csv(data, delimiter=',') #Read data into pandas data frame.\n",
    "df_all = pd.DataFrame(columns=df_init.columns) #Initialise df_all with df_init columns."
   ]
  },
  {
   "cell_type": "code",
   "execution_count": 30,
   "id": "68ee78ae",
   "metadata": {},
   "outputs": [],
   "source": [
    "#Read csv body of dataset into pandas dataframe - iteration step:\n",
    "for obj in bucket_objects:\n",
    "    csv_obj = bucket.Object(key=obj.key).get().get('Body') #Read data element from list.\n",
    "    csv_obj = csv_obj.read().decode('utf-8') #Store into to csv object in utf-8 format.\n",
    "    data = StringIO(csv_obj) #Convert csv object to string data.\n",
    "    df = pd.read_csv(data, delimiter=',') #Read data as pandas data frame.\n",
    "    df_all = pd.concat([df, df_all]) #Concatenate data to one master dataframe."
   ]
  },
  {
   "cell_type": "code",
   "execution_count": 31,
   "id": "4cba0345",
   "metadata": {},
   "outputs": [
    {
     "data": {
      "text/plain": [
       "'ISIN,Mnemonic,SecurityDesc,SecurityType,Currency,SecurityID,Date,Time,StartPrice,MaxPrice,MinPrice,EndPrice,TradedVolume,NumberOfTrades\\r\\n'"
      ]
     },
     "execution_count": 31,
     "metadata": {},
     "output_type": "execute_result"
    }
   ],
   "source": [
    "csv_obj #Print csv object to view columns."
   ]
  },
  {
   "cell_type": "markdown",
   "id": "7e7e0dd7",
   "metadata": {},
   "source": [
    "Data Cleansing"
   ]
  },
  {
   "cell_type": "code",
   "execution_count": 32,
   "id": "dfc15204",
   "metadata": {},
   "outputs": [],
   "source": [
    "#Remove unecessary columns by storing required columns in variable and passing as .loc function argument. \n",
    "columns_use = ['ISIN', 'Date', 'Time', 'StartPrice', 'MaxPrice', 'MinPrice', 'EndPrice', 'TradedVolume']\n",
    "df_all = df_all.loc[:,columns_use]"
   ]
  },
  {
   "cell_type": "code",
   "execution_count": 33,
   "id": "2572f2be",
   "metadata": {},
   "outputs": [
    {
     "data": {
      "text/plain": [
       "(257248, 8)"
      ]
     },
     "execution_count": 33,
     "metadata": {},
     "output_type": "execute_result"
    }
   ],
   "source": [
    "df_all.dropna(inplace=True) #Drop all missing values from the dataset.\n",
    "df_all = df_all.reset_index(drop=True) #Reset the column index.\n",
    "df_all.shape #Check if there was any filtering (should match table dimensions)"
   ]
  },
  {
   "cell_type": "code",
   "execution_count": 34,
   "id": "6a9fd179",
   "metadata": {},
   "outputs": [
    {
     "data": {
      "text/html": [
       "<div>\n",
       "<style scoped>\n",
       "    .dataframe tbody tr th:only-of-type {\n",
       "        vertical-align: middle;\n",
       "    }\n",
       "\n",
       "    .dataframe tbody tr th {\n",
       "        vertical-align: top;\n",
       "    }\n",
       "\n",
       "    .dataframe thead th {\n",
       "        text-align: right;\n",
       "    }\n",
       "</style>\n",
       "<table border=\"1\" class=\"dataframe\">\n",
       "  <thead>\n",
       "    <tr style=\"text-align: right;\">\n",
       "      <th></th>\n",
       "      <th>ISIN</th>\n",
       "      <th>Date</th>\n",
       "      <th>Time</th>\n",
       "      <th>StartPrice</th>\n",
       "      <th>MaxPrice</th>\n",
       "      <th>MinPrice</th>\n",
       "      <th>EndPrice</th>\n",
       "      <th>TradedVolume</th>\n",
       "    </tr>\n",
       "  </thead>\n",
       "  <tbody>\n",
       "    <tr>\n",
       "      <th>0</th>\n",
       "      <td>US98956P1021</td>\n",
       "      <td>2022-02-28</td>\n",
       "      <td>20:30</td>\n",
       "      <td>113.100</td>\n",
       "      <td>113.100</td>\n",
       "      <td>113.100</td>\n",
       "      <td>113.100</td>\n",
       "      <td>0</td>\n",
       "    </tr>\n",
       "    <tr>\n",
       "      <th>1</th>\n",
       "      <td>US9224171002</td>\n",
       "      <td>2022-02-28</td>\n",
       "      <td>20:30</td>\n",
       "      <td>24.600</td>\n",
       "      <td>24.600</td>\n",
       "      <td>24.600</td>\n",
       "      <td>24.600</td>\n",
       "      <td>0</td>\n",
       "    </tr>\n",
       "    <tr>\n",
       "      <th>2</th>\n",
       "      <td>IT0005143547</td>\n",
       "      <td>2022-02-28</td>\n",
       "      <td>20:30</td>\n",
       "      <td>3.100</td>\n",
       "      <td>3.100</td>\n",
       "      <td>3.100</td>\n",
       "      <td>3.100</td>\n",
       "      <td>0</td>\n",
       "    </tr>\n",
       "    <tr>\n",
       "      <th>3</th>\n",
       "      <td>CA0679011084</td>\n",
       "      <td>2022-02-28</td>\n",
       "      <td>16:00</td>\n",
       "      <td>20.215</td>\n",
       "      <td>20.215</td>\n",
       "      <td>20.185</td>\n",
       "      <td>20.185</td>\n",
       "      <td>60</td>\n",
       "    </tr>\n",
       "    <tr>\n",
       "      <th>4</th>\n",
       "      <td>CA32076V1031</td>\n",
       "      <td>2022-02-28</td>\n",
       "      <td>16:00</td>\n",
       "      <td>10.060</td>\n",
       "      <td>10.060</td>\n",
       "      <td>10.060</td>\n",
       "      <td>10.060</td>\n",
       "      <td>11</td>\n",
       "    </tr>\n",
       "    <tr>\n",
       "      <th>...</th>\n",
       "      <td>...</td>\n",
       "      <td>...</td>\n",
       "      <td>...</td>\n",
       "      <td>...</td>\n",
       "      <td>...</td>\n",
       "      <td>...</td>\n",
       "      <td>...</td>\n",
       "      <td>...</td>\n",
       "    </tr>\n",
       "    <tr>\n",
       "      <th>257243</th>\n",
       "      <td>DK0061539921</td>\n",
       "      <td>2022-01-28</td>\n",
       "      <td>08:59</td>\n",
       "      <td>23.270</td>\n",
       "      <td>23.270</td>\n",
       "      <td>23.270</td>\n",
       "      <td>23.270</td>\n",
       "      <td>37</td>\n",
       "    </tr>\n",
       "    <tr>\n",
       "      <th>257244</th>\n",
       "      <td>DE000A3E5D56</td>\n",
       "      <td>2022-01-28</td>\n",
       "      <td>08:59</td>\n",
       "      <td>30.060</td>\n",
       "      <td>30.080</td>\n",
       "      <td>30.060</td>\n",
       "      <td>30.080</td>\n",
       "      <td>218</td>\n",
       "    </tr>\n",
       "    <tr>\n",
       "      <th>257245</th>\n",
       "      <td>DE000A3E5D64</td>\n",
       "      <td>2022-01-28</td>\n",
       "      <td>08:59</td>\n",
       "      <td>38.100</td>\n",
       "      <td>38.100</td>\n",
       "      <td>38.100</td>\n",
       "      <td>38.100</td>\n",
       "      <td>34</td>\n",
       "    </tr>\n",
       "    <tr>\n",
       "      <th>257246</th>\n",
       "      <td>FR0000121147</td>\n",
       "      <td>2022-01-28</td>\n",
       "      <td>08:59</td>\n",
       "      <td>38.840</td>\n",
       "      <td>38.840</td>\n",
       "      <td>38.840</td>\n",
       "      <td>38.840</td>\n",
       "      <td>40</td>\n",
       "    </tr>\n",
       "    <tr>\n",
       "      <th>257247</th>\n",
       "      <td>DE000DTR0CK8</td>\n",
       "      <td>2022-01-28</td>\n",
       "      <td>08:59</td>\n",
       "      <td>31.925</td>\n",
       "      <td>31.925</td>\n",
       "      <td>31.910</td>\n",
       "      <td>31.920</td>\n",
       "      <td>1461</td>\n",
       "    </tr>\n",
       "  </tbody>\n",
       "</table>\n",
       "<p>257248 rows × 8 columns</p>\n",
       "</div>"
      ],
      "text/plain": [
       "                ISIN        Date   Time  StartPrice  MaxPrice  MinPrice  \\\n",
       "0       US98956P1021  2022-02-28  20:30     113.100   113.100   113.100   \n",
       "1       US9224171002  2022-02-28  20:30      24.600    24.600    24.600   \n",
       "2       IT0005143547  2022-02-28  20:30       3.100     3.100     3.100   \n",
       "3       CA0679011084  2022-02-28  16:00      20.215    20.215    20.185   \n",
       "4       CA32076V1031  2022-02-28  16:00      10.060    10.060    10.060   \n",
       "...              ...         ...    ...         ...       ...       ...   \n",
       "257243  DK0061539921  2022-01-28  08:59      23.270    23.270    23.270   \n",
       "257244  DE000A3E5D56  2022-01-28  08:59      30.060    30.080    30.060   \n",
       "257245  DE000A3E5D64  2022-01-28  08:59      38.100    38.100    38.100   \n",
       "257246  FR0000121147  2022-01-28  08:59      38.840    38.840    38.840   \n",
       "257247  DE000DTR0CK8  2022-01-28  08:59      31.925    31.925    31.910   \n",
       "\n",
       "        EndPrice TradedVolume  \n",
       "0        113.100            0  \n",
       "1         24.600            0  \n",
       "2          3.100            0  \n",
       "3         20.185           60  \n",
       "4         10.060           11  \n",
       "...          ...          ...  \n",
       "257243    23.270           37  \n",
       "257244    30.080          218  \n",
       "257245    38.100           34  \n",
       "257246    38.840           40  \n",
       "257247    31.920         1461  \n",
       "\n",
       "[257248 rows x 8 columns]"
      ]
     },
     "execution_count": 34,
     "metadata": {},
     "output_type": "execute_result"
    }
   ],
   "source": [
    "#Print transformed data output.\n",
    "df_all"
   ]
  }
 ],
 "metadata": {
  "kernelspec": {
   "display_name": "Python 3 (ipykernel)",
   "language": "python",
   "name": "python3"
  },
  "language_info": {
   "codemirror_mode": {
    "name": "ipython",
    "version": 3
   },
   "file_extension": ".py",
   "mimetype": "text/x-python",
   "name": "python",
   "nbconvert_exporter": "python",
   "pygments_lexer": "ipython3",
   "version": "3.10.8"
  }
 },
 "nbformat": 4,
 "nbformat_minor": 5
}
