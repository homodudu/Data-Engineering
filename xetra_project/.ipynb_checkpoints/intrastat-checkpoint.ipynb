{
 "cells": [
  {
   "cell_type": "code",
   "execution_count": 2,
   "id": "25792125",
   "metadata": {},
   "outputs": [
    {
     "data": {
      "text/plain": [
       "'\\n\\nDATA ENGINEERING ETL PIPELINE - INTRASTAT\\n\\nAim:\\nWrite a production ready ETL pipeline using python and pandas.\\n\\nOverview:\\nIntrastat is a system that collect information relating to the trade of goods. \\n\\nTask:\\n\\nBelow outlines the steps to be performed:\\n    \\n    1) Import the necessary libraries and functions for our project.\\n    2) Disable security certification checks for client-server connections.\\n    2) Create variables to define the url that will be requested. \\n    3) Fetch 2022 intrastat commodity codes data from cbs.nl url. \\n    4) Parse the url content into a pandas dataframe.\\n    5) Apply cleansing and transformation using pandas libray functions.\\n    6) Export the content as a csv file. \\n\\n    \\n'"
      ]
     },
     "execution_count": 2,
     "metadata": {},
     "output_type": "execute_result"
    }
   ],
   "source": [
    "\"\"\"\n",
    "\n",
    "DATA ENGINEERING ETL PIPELINE - INTRASTAT\n",
    "\n",
    "Aim:\n",
    "Write a production ready ETL pipeline using python and pandas.\n",
    "\n",
    "Overview:\n",
    "Intrastat is a system that collect information relating to the trade of goods. \n",
    "\n",
    "Task:\n",
    "\n",
    "Below outlines the steps to be performed:\n",
    "    \n",
    "    1) Import the necessary libraries and functions for our project.\n",
    "    2) Disable security certification checks for client-server connections.\n",
    "    2) Create variables to define the url that will be requested. \n",
    "    3) Fetch 2022 intrastat commodity codes data from cbs.nl url. \n",
    "    4) Parse the url content into a pandas dataframe.\n",
    "    5) Apply cleansing and transformation using pandas libray functions.\n",
    "    6) Export the content as a csv file. \n",
    "\n",
    "    \n",
    "\"\"\""
   ]
  },
  {
   "cell_type": "code",
   "execution_count": 3,
   "id": "15b39f23",
   "metadata": {},
   "outputs": [],
   "source": [
    "import pandas as pd #Data analysis package.\n",
    "import ssl #Secure sockets layer package.\n",
    "import urllib #Url handling module."
   ]
  },
  {
   "cell_type": "code",
   "execution_count": 4,
   "id": "56f974d7",
   "metadata": {},
   "outputs": [
    {
     "data": {
      "text/plain": [
       "<http.client.HTTPResponse at 0x11a7bb670>"
      ]
     },
     "execution_count": 4,
     "metadata": {},
     "output_type": "execute_result"
    }
   ],
   "source": [
    "#Disable security certificate checks for url requests.\n",
    "ssl._create_default_https_context = ssl._create_unverified_context\n",
    "\n",
    "#Request content from from url.\n",
    "url = 'https://www.cbs.nl/-/media/cbsvooruwbedrijf/international-trade-in-goods/commoditycodes_2022.xlsx'\n",
    "urllib.request.urlopen(url)\n"
   ]
  },
  {
   "cell_type": "code",
   "execution_count": 5,
   "id": "d0a93dc3",
   "metadata": {},
   "outputs": [],
   "source": [
    "#Read data into pandas dataframe.\n",
    "df = pd.read_excel(url)"
   ]
  },
  {
   "cell_type": "code",
   "execution_count": 56,
   "id": "215a026d",
   "metadata": {
    "scrolled": true
   },
   "outputs": [
    {
     "data": {
      "text/html": [
       "<div>\n",
       "<style scoped>\n",
       "    .dataframe tbody tr th:only-of-type {\n",
       "        vertical-align: middle;\n",
       "    }\n",
       "\n",
       "    .dataframe tbody tr th {\n",
       "        vertical-align: top;\n",
       "    }\n",
       "\n",
       "    .dataframe thead th {\n",
       "        text-align: right;\n",
       "    }\n",
       "</style>\n",
       "<table border=\"1\" class=\"dataframe\">\n",
       "  <thead>\n",
       "    <tr style=\"text-align: right;\">\n",
       "      <th></th>\n",
       "      <th>CN2022</th>\n",
       "      <th>Symbol</th>\n",
       "      <th>Description</th>\n",
       "      <th>CN8</th>\n",
       "    </tr>\n",
       "  </thead>\n",
       "  <tbody>\n",
       "    <tr>\n",
       "      <th>0</th>\n",
       "      <td>1012100</td>\n",
       "      <td>p/st</td>\n",
       "      <td>Pure-bred breeding horses</td>\n",
       "      <td>01012100</td>\n",
       "    </tr>\n",
       "    <tr>\n",
       "      <th>1</th>\n",
       "      <td>1012910</td>\n",
       "      <td>p/st</td>\n",
       "      <td>Horses for slaughter</td>\n",
       "      <td>01012910</td>\n",
       "    </tr>\n",
       "    <tr>\n",
       "      <th>2</th>\n",
       "      <td>1012990</td>\n",
       "      <td>p/st</td>\n",
       "      <td>Live horses (excl. for slaughter, pure-bred fo...</td>\n",
       "      <td>01012990</td>\n",
       "    </tr>\n",
       "    <tr>\n",
       "      <th>3</th>\n",
       "      <td>1013000</td>\n",
       "      <td>p/st</td>\n",
       "      <td>Live asses</td>\n",
       "      <td>01013000</td>\n",
       "    </tr>\n",
       "    <tr>\n",
       "      <th>4</th>\n",
       "      <td>1019000</td>\n",
       "      <td>p/st</td>\n",
       "      <td>Live mules and hinnies</td>\n",
       "      <td>01019000</td>\n",
       "    </tr>\n",
       "    <tr>\n",
       "      <th>...</th>\n",
       "      <td>...</td>\n",
       "      <td>...</td>\n",
       "      <td>...</td>\n",
       "      <td>...</td>\n",
       "    </tr>\n",
       "    <tr>\n",
       "      <th>9731</th>\n",
       "      <td>97052900</td>\n",
       "      <td>-</td>\n",
       "      <td>Collections and collectors? pieces of zoologic...</td>\n",
       "      <td>97052900</td>\n",
       "    </tr>\n",
       "    <tr>\n",
       "      <th>9732</th>\n",
       "      <td>97053100</td>\n",
       "      <td>-</td>\n",
       "      <td>Collections and collectors? pieces of numismat...</td>\n",
       "      <td>97053100</td>\n",
       "    </tr>\n",
       "    <tr>\n",
       "      <th>9733</th>\n",
       "      <td>97053900</td>\n",
       "      <td>-</td>\n",
       "      <td>Collections and collectors? pieces of numismat...</td>\n",
       "      <td>97053900</td>\n",
       "    </tr>\n",
       "    <tr>\n",
       "      <th>9734</th>\n",
       "      <td>97061000</td>\n",
       "      <td>-</td>\n",
       "      <td>Antiques, over 250 years old</td>\n",
       "      <td>97061000</td>\n",
       "    </tr>\n",
       "    <tr>\n",
       "      <th>9735</th>\n",
       "      <td>97069000</td>\n",
       "      <td>-</td>\n",
       "      <td>Antiques, over 100 but at most 250 years old</td>\n",
       "      <td>97069000</td>\n",
       "    </tr>\n",
       "  </tbody>\n",
       "</table>\n",
       "<p>9736 rows × 4 columns</p>\n",
       "</div>"
      ],
      "text/plain": [
       "        CN2022 Symbol                                        Description  \\\n",
       "0      1012100   p/st                          Pure-bred breeding horses   \n",
       "1      1012910   p/st                               Horses for slaughter   \n",
       "2      1012990   p/st  Live horses (excl. for slaughter, pure-bred fo...   \n",
       "3      1013000   p/st                                         Live asses   \n",
       "4      1019000   p/st                             Live mules and hinnies   \n",
       "...        ...    ...                                                ...   \n",
       "9731  97052900      -  Collections and collectors? pieces of zoologic...   \n",
       "9732  97053100      -  Collections and collectors? pieces of numismat...   \n",
       "9733  97053900      -  Collections and collectors? pieces of numismat...   \n",
       "9734  97061000      -                       Antiques, over 250 years old   \n",
       "9735  97069000      -       Antiques, over 100 but at most 250 years old   \n",
       "\n",
       "           CN8  \n",
       "0     01012100  \n",
       "1     01012910  \n",
       "2     01012990  \n",
       "3     01013000  \n",
       "4     01019000  \n",
       "...        ...  \n",
       "9731  97052900  \n",
       "9732  97053100  \n",
       "9733  97053900  \n",
       "9734  97061000  \n",
       "9735  97069000  \n",
       "\n",
       "[9736 rows x 4 columns]"
      ]
     },
     "execution_count": 56,
     "metadata": {},
     "output_type": "execute_result"
    }
   ],
   "source": [
    "#Copy CN codes from column index [0] into new 'CN8' column. Pad left 'CN8' values.  \n",
    "df['CN8'] = df.iloc[:,[0]].astype(str) \n",
    "df['CN8'] = df['CN8'].str.zfill(8) \n",
    "df"
   ]
  },
  {
   "cell_type": "code",
   "execution_count": 60,
   "id": "d243a001",
   "metadata": {},
   "outputs": [],
   "source": [
    "df.to_csv('CN8 Codes.csv', encoding='utf-8', index=False)"
   ]
  },
  {
   "cell_type": "code",
   "execution_count": null,
   "id": "3ccec49d",
   "metadata": {},
   "outputs": [],
   "source": []
  }
 ],
 "metadata": {
  "kernelspec": {
   "display_name": "Python 3 (ipykernel)",
   "language": "python",
   "name": "python3"
  },
  "language_info": {
   "codemirror_mode": {
    "name": "ipython",
    "version": 3
   },
   "file_extension": ".py",
   "mimetype": "text/x-python",
   "name": "python",
   "nbconvert_exporter": "python",
   "pygments_lexer": "ipython3",
   "version": "3.10.8"
  }
 },
 "nbformat": 4,
 "nbformat_minor": 5
}
