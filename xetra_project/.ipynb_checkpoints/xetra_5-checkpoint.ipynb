{
 "cells": [
  {
   "cell_type": "markdown",
   "id": "7d085730",
   "metadata": {
    "collapsed": true
   },
   "source": [
    "\"\"\"\n",
    "\n",
    "DATA ENGINEERING ETL PIPELINE - XETRA DATASET\n",
    "\n",
    "5: Saving output to Amazon s3 and code restructuring.\n",
    "\n",
    "Aim:\n",
    "Write a production ready ETL pipeline using python and pandas.\n",
    "\n",
    "Overview:\n",
    "Xetra is a German stock exchange based in Frankfurt operated by Deutsche Börse Group. \n",
    "Data related to daily trading activity is stored publicly on the Amazon S3 database. \n",
    "(Update - as of July 2022 the data is no longer available. An archival S3 database will be used) \n",
    "\n",
    "Task:\n",
    "Use jupyter notebook as a protoyping tool to extract and transform source data.\n",
    "Request and extract source data from cloud based web services.\n",
    "Use loops and iteration to read and consolidate multiple source files.\n",
    "Familiarise with pandas package functions to clean and transform output data. \n",
    "\n",
    "Below outlines the steps to be performed:\n",
    "    \n",
    "    1) Continuation of xetra_4 - parametising data extraction. \n",
    "    2) Load data to Amazon S3 bucket using pyarrow package. \n",
    "    3) Check that loaded data can also be extracted within script. \n",
    "    4) Code improvements:\n",
    "        - Define variables at the beginning of script.\n",
    "        - Add comments and functions to improve code readibility.\n",
    "        - Remove unecessary lines. \n",
    "    \n",
    "\"\"\""
   ]
  },
  {
   "cell_type": "markdown",
   "id": "82f1e289",
   "metadata": {},
   "source": [
    "Define Packages"
   ]
  },
  {
   "cell_type": "code",
   "execution_count": 46,
   "id": "b66eb1d7",
   "metadata": {},
   "outputs": [],
   "source": [
    "#Packages to be imported\n",
    "import boto3 #AWS service management package.\n",
    "import pandas as pd #Data analysis library.\n",
    "from io import StringIO #String buffer to read CSV files.\n",
    "from io import BytesIO #Bytes buffer to read PARQUET files.\n",
    "from datetime import datetime, timedelta #Facilitate calulations relating to day of trade. \n"
   ]
  },
  {
   "cell_type": "markdown",
   "id": "d3cf928c",
   "metadata": {},
   "source": [
    "Define Variables"
   ]
  },
  {
   "cell_type": "code",
   "execution_count": 47,
   "id": "66a24f94",
   "metadata": {},
   "outputs": [],
   "source": [
    "#User defined input parameters. \n",
    "arg_date = '2022-12-03' #Bucket filtering argument.\n",
    "arg_date_format = '%Y-%m-%d' #Date format.\n",
    "src_bucket = 'xetra-1234' #Source data bucket name\n",
    "trg_bucket = 'xetra-probe'#Output data bucket name\n",
    "\n",
    "#Columns to be kept during data cleanse.\n",
    "columns_use = ['ISIN', 'Date', 'Time', 'StartPrice', 'MaxPrice', 'MinPrice', 'EndPrice', 'TradedVolume']\n",
    "\n",
    "#Parametised key name for Amazon target bucket. \n",
    "bucket_key = 'xetra_daily_report' + datetime.today().strftime('%Y%m%d_%H%M%S') + '.parquet'\n"
   ]
  },
  {
   "cell_type": "markdown",
   "id": "9a186899",
   "metadata": {},
   "source": [
    "Data Extraction"
   ]
  },
  {
   "cell_type": "code",
   "execution_count": 48,
   "id": "3eaa4730",
   "metadata": {},
   "outputs": [],
   "source": [
    "#Parametise data time filtering of amazon data bucket.  \n",
    "arg_dt_obj = datetime.strptime(arg_date, arg_date_format) #Parse to datetime object.\n",
    "\n",
    "#Trading calculations during data transformation will require previous day's data.\n",
    "arg_dt_obj = arg_dt_obj.date()-timedelta(days=1) #Force argument date to use previous calender day. \n",
    "\n",
    "#Create instance of the \"xetra\" data bucket from Amazon S3 resource.\n",
    "s3 = boto3.resource('s3') \n",
    "bucket = s3.Bucket(src_bucket)\n",
    "\n",
    "#Filter and extract bucket data based on date argument.\n",
    "bucket_objects = [obj for obj in bucket.objects.all() if (datetime.strptime(obj.key.split('/')[0], '%Y-%m-%d').date()>= arg_dt_obj)]"
   ]
  },
  {
   "cell_type": "code",
   "execution_count": 49,
   "id": "bbd5c579",
   "metadata": {},
   "outputs": [],
   "source": [
    "#Method to convert bucket data from csv to pandas dataframe.\n",
    "def csv_to_df (filename):\n",
    "    csv_obj = bucket.Object(key=filename).get().get('Body') #Read data element from list.\n",
    "    csv_obj = csv_obj.read().decode('utf-8') #Store into to csv object in utf-8 format.\n",
    "    data = StringIO(csv_obj) #Convert csv object to string data.\n",
    "    df = pd.read_csv(data, delimiter=',') #Read data as pandas data frame.\n",
    "    return df\n",
    "\n",
    "#Concatenate bucket data to master dataframe via list comprehension. \n",
    "df_all = pd.concat([csv_to_df(obj.key) for obj in bucket_objects], ignore_index=True)"
   ]
  },
  {
   "cell_type": "markdown",
   "id": "0aa4b220",
   "metadata": {},
   "source": [
    "Data Cleansing"
   ]
  },
  {
   "cell_type": "code",
   "execution_count": 50,
   "id": "dfc15204",
   "metadata": {},
   "outputs": [
    {
     "data": {
      "text/plain": [
       "(353475, 8)"
      ]
     },
     "execution_count": 50,
     "metadata": {},
     "output_type": "execute_result"
    }
   ],
   "source": [
    "#Remove unecssary columns and missing baues from data. \n",
    "df_all = df_all.loc[:,columns_use] #Remove unecessary columns \n",
    "df_all.dropna(inplace=True) #Drop all missing values from the dataset.\n",
    "df_all = df_all.reset_index(drop=True) #Reset the column index.\n",
    "df_all.shape #Check if there was any filtering (should match table dimensions)."
   ]
  },
  {
   "cell_type": "markdown",
   "id": "c73211bc",
   "metadata": {},
   "source": [
    "Data Transformation"
   ]
  },
  {
   "cell_type": "code",
   "execution_count": 51,
   "id": "809bbc14",
   "metadata": {},
   "outputs": [],
   "source": [
    "#Get opening price per ISIN on a particular day.  \n",
    "df_all['OpeningPrice'] = df_all.sort_values('Time').groupby(['ISIN','Date'])['StartPrice'].transform('first')\n",
    "\n",
    "#Get closing price per ISIN on a particular day. \n",
    "df_all['ClosingPrice'] = df_all.sort_values('Time').groupby(['ISIN','Date'])['EndPrice'].transform('last')\n",
    "\n",
    "#Aggregate data per ISIN on a particular day.\n",
    "df_all = df_all.groupby(['ISIN','Date'], as_index = False).agg(OpeningPriceEUR = ('OpeningPrice', 'min'),ClosingPriceEUR = ('ClosingPrice', 'min'), MinPriceEUR = ('MinPrice', 'min'), MaxPriceEUR = ('MaxPrice', 'max'), DailyTradedVolume = ('TradedVolume', 'sum'))\n",
    "\n",
    "#Percentage change in closing price between current and pervious day of trade. \n",
    "df_all['PrevClosingPriceEUR'] = df_all.sort_values(by = 'Date').groupby(['ISIN'])['ClosingPriceEUR'].shift(1)\n",
    "df_all['DeltaPrevClosingPriceEUR%'] = (df_all['ClosingPriceEUR'] - df_all['PrevClosingPriceEUR'])/df_all['PrevClosingPriceEUR']*100\n",
    "\n",
    "#Drop unnecess aggregated data. \n",
    "#df_all.drop(columns = ['PrevClosingPriceEUR'], inplace = True) \n",
    "df_all = df_all.round(decimals = 2)\n",
    "\n",
    "#Filter output by specified by argument date\n",
    "df_all = df_all[df_all['Date']>=arg_date]\n"
   ]
  },
  {
   "cell_type": "markdown",
   "id": "7b03ad50",
   "metadata": {},
   "source": [
    "Data Loading"
   ]
  },
  {
   "cell_type": "code",
   "execution_count": 52,
   "id": "7c60b010",
   "metadata": {},
   "outputs": [
    {
     "data": {
      "text/plain": [
       "s3.Object(bucket_name='xetra-probe', key='xetra_daily_report20221204_191953.parquet')"
      ]
     },
     "execution_count": 52,
     "metadata": {},
     "output_type": "execute_result"
    }
   ],
   "source": [
    "#Create output buffer to and store dataframe as parquet file. \n",
    "output = BytesIO()\n",
    "df_all.to_parquet(output, index=False)\n",
    "\n",
    "#Save data to Amazon S3 target bucket. \n",
    "target_bucket = s3.Bucket(trg_bucket)\n",
    "target_bucket.put_object(Body=output.getvalue(),Key=bucket_key)"
   ]
  },
  {
   "cell_type": "markdown",
   "id": "61105a8e",
   "metadata": {},
   "source": [
    "Data Reading"
   ]
  },
  {
   "cell_type": "code",
   "execution_count": 54,
   "id": "be9b2617",
   "metadata": {},
   "outputs": [
    {
     "data": {
      "text/html": [
       "<div>\n",
       "<style scoped>\n",
       "    .dataframe tbody tr th:only-of-type {\n",
       "        vertical-align: middle;\n",
       "    }\n",
       "\n",
       "    .dataframe tbody tr th {\n",
       "        vertical-align: top;\n",
       "    }\n",
       "\n",
       "    .dataframe thead th {\n",
       "        text-align: right;\n",
       "    }\n",
       "</style>\n",
       "<table border=\"1\" class=\"dataframe\">\n",
       "  <thead>\n",
       "    <tr style=\"text-align: right;\">\n",
       "      <th></th>\n",
       "      <th>ISIN</th>\n",
       "      <th>Date</th>\n",
       "      <th>OpeningPriceEUR</th>\n",
       "      <th>ClosingPriceEUR</th>\n",
       "      <th>MinPriceEUR</th>\n",
       "      <th>MaxPriceEUR</th>\n",
       "      <th>DailyTradedVolume</th>\n",
       "      <th>DeltaPrevClosingPriceEUR%</th>\n",
       "    </tr>\n",
       "  </thead>\n",
       "  <tbody>\n",
       "    <tr>\n",
       "      <th>0</th>\n",
       "      <td>AT000000STR1</td>\n",
       "      <td>2022-12-01</td>\n",
       "      <td>38.10</td>\n",
       "      <td>38.50</td>\n",
       "      <td>38.10</td>\n",
       "      <td>38.60</td>\n",
       "      <td>668</td>\n",
       "      <td>4.90</td>\n",
       "    </tr>\n",
       "    <tr>\n",
       "      <th>1</th>\n",
       "      <td>AT000000STR1</td>\n",
       "      <td>2022-12-02</td>\n",
       "      <td>38.85</td>\n",
       "      <td>38.60</td>\n",
       "      <td>38.55</td>\n",
       "      <td>38.95</td>\n",
       "      <td>2597</td>\n",
       "      <td>0.26</td>\n",
       "    </tr>\n",
       "    <tr>\n",
       "      <th>2</th>\n",
       "      <td>AT000000STR1</td>\n",
       "      <td>2022-12-03</td>\n",
       "      <td>39.00</td>\n",
       "      <td>38.60</td>\n",
       "      <td>38.60</td>\n",
       "      <td>39.00</td>\n",
       "      <td>66</td>\n",
       "      <td>0.00</td>\n",
       "    </tr>\n",
       "    <tr>\n",
       "      <th>3</th>\n",
       "      <td>AT000000STR1</td>\n",
       "      <td>2022-12-04</td>\n",
       "      <td>38.85</td>\n",
       "      <td>38.90</td>\n",
       "      <td>38.80</td>\n",
       "      <td>38.90</td>\n",
       "      <td>250</td>\n",
       "      <td>0.78</td>\n",
       "    </tr>\n",
       "    <tr>\n",
       "      <th>4</th>\n",
       "      <td>AT00000FACC2</td>\n",
       "      <td>2022-12-01</td>\n",
       "      <td>7.82</td>\n",
       "      <td>8.00</td>\n",
       "      <td>7.75</td>\n",
       "      <td>8.12</td>\n",
       "      <td>1830</td>\n",
       "      <td>-6.65</td>\n",
       "    </tr>\n",
       "    <tr>\n",
       "      <th>...</th>\n",
       "      <td>...</td>\n",
       "      <td>...</td>\n",
       "      <td>...</td>\n",
       "      <td>...</td>\n",
       "      <td>...</td>\n",
       "      <td>...</td>\n",
       "      <td>...</td>\n",
       "      <td>...</td>\n",
       "    </tr>\n",
       "    <tr>\n",
       "      <th>12809</th>\n",
       "      <td>XS2314660700</td>\n",
       "      <td>2022-12-04</td>\n",
       "      <td>20.01</td>\n",
       "      <td>20.21</td>\n",
       "      <td>20.01</td>\n",
       "      <td>20.27</td>\n",
       "      <td>42</td>\n",
       "      <td>0.03</td>\n",
       "    </tr>\n",
       "    <tr>\n",
       "      <th>12810</th>\n",
       "      <td>XS2376095068</td>\n",
       "      <td>2022-12-01</td>\n",
       "      <td>34.08</td>\n",
       "      <td>34.66</td>\n",
       "      <td>34.08</td>\n",
       "      <td>34.67</td>\n",
       "      <td>3920</td>\n",
       "      <td>-5.04</td>\n",
       "    </tr>\n",
       "    <tr>\n",
       "      <th>12811</th>\n",
       "      <td>XS2376095068</td>\n",
       "      <td>2022-12-02</td>\n",
       "      <td>33.97</td>\n",
       "      <td>32.88</td>\n",
       "      <td>32.88</td>\n",
       "      <td>34.10</td>\n",
       "      <td>600</td>\n",
       "      <td>-5.13</td>\n",
       "    </tr>\n",
       "    <tr>\n",
       "      <th>12812</th>\n",
       "      <td>XS2376095068</td>\n",
       "      <td>2022-12-03</td>\n",
       "      <td>32.75</td>\n",
       "      <td>32.20</td>\n",
       "      <td>32.20</td>\n",
       "      <td>32.75</td>\n",
       "      <td>0</td>\n",
       "      <td>-2.07</td>\n",
       "    </tr>\n",
       "    <tr>\n",
       "      <th>12813</th>\n",
       "      <td>XS2376095068</td>\n",
       "      <td>2022-12-04</td>\n",
       "      <td>33.01</td>\n",
       "      <td>35.13</td>\n",
       "      <td>32.95</td>\n",
       "      <td>35.13</td>\n",
       "      <td>0</td>\n",
       "      <td>9.11</td>\n",
       "    </tr>\n",
       "  </tbody>\n",
       "</table>\n",
       "<p>12814 rows × 8 columns</p>\n",
       "</div>"
      ],
      "text/plain": [
       "               ISIN        Date  OpeningPriceEUR  ClosingPriceEUR  \\\n",
       "0      AT000000STR1  2022-12-01            38.10            38.50   \n",
       "1      AT000000STR1  2022-12-02            38.85            38.60   \n",
       "2      AT000000STR1  2022-12-03            39.00            38.60   \n",
       "3      AT000000STR1  2022-12-04            38.85            38.90   \n",
       "4      AT00000FACC2  2022-12-01             7.82             8.00   \n",
       "...             ...         ...              ...              ...   \n",
       "12809  XS2314660700  2022-12-04            20.01            20.21   \n",
       "12810  XS2376095068  2022-12-01            34.08            34.66   \n",
       "12811  XS2376095068  2022-12-02            33.97            32.88   \n",
       "12812  XS2376095068  2022-12-03            32.75            32.20   \n",
       "12813  XS2376095068  2022-12-04            33.01            35.13   \n",
       "\n",
       "       MinPriceEUR  MaxPriceEUR  DailyTradedVolume  DeltaPrevClosingPriceEUR%  \n",
       "0            38.10        38.60                668                       4.90  \n",
       "1            38.55        38.95               2597                       0.26  \n",
       "2            38.60        39.00                 66                       0.00  \n",
       "3            38.80        38.90                250                       0.78  \n",
       "4             7.75         8.12               1830                      -6.65  \n",
       "...            ...          ...                ...                        ...  \n",
       "12809        20.01        20.27                 42                       0.03  \n",
       "12810        34.08        34.67               3920                      -5.04  \n",
       "12811        32.88        34.10                600                      -5.13  \n",
       "12812        32.20        32.75                  0                      -2.07  \n",
       "12813        32.95        35.13                  0                       9.11  \n",
       "\n",
       "[12814 rows x 8 columns]"
      ]
     },
     "execution_count": 54,
     "metadata": {},
     "output_type": "execute_result"
    }
   ],
   "source": [
    "#Verify output by reading data back into workflow.   \n",
    "prq_obj = target_bucket.Object(key=obj.key).get().get('Body').read()\n",
    "data = BytesIO(prq_obj)\n",
    "df_report = pd.read_parquet(data)\n",
    "\n",
    "#Print dataframe output. \n",
    "df_report"
   ]
  },
  {
   "cell_type": "code",
   "execution_count": null,
   "id": "edb3a8cb",
   "metadata": {},
   "outputs": [],
   "source": []
  }
 ],
 "metadata": {
  "kernelspec": {
   "display_name": "Python 3 (ipykernel)",
   "language": "python",
   "name": "python3"
  },
  "language_info": {
   "codemirror_mode": {
    "name": "ipython",
    "version": 3
   },
   "file_extension": ".py",
   "mimetype": "text/x-python",
   "name": "python",
   "nbconvert_exporter": "python",
   "pygments_lexer": "ipython3",
   "version": "3.10.8"
  }
 },
 "nbformat": 4,
 "nbformat_minor": 5
}
