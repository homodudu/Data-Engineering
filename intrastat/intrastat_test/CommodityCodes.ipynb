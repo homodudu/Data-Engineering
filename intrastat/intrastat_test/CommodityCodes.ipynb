{
 "cells": [
  {
   "cell_type": "markdown",
   "id": "a4da4ae2",
   "metadata": {},
   "source": [
    "## DATA ENGINEERING PIPELINE - INTRASTAT COMMODITY CODES\n",
    "\n",
    "Aim:\n",
    "Write a production ready data engineering pipeline using python and pandas.\n",
    "\n",
    "Overview:\n",
    "Intrastat is a system that collects information relating to the trade of goods. This script will request intrastat commodity codes from an online resource, transform the data and export to csv. \n",
    "\n",
    "Task:\n",
    "\n",
    "Below outlines the steps to be performed:\n",
    "    \n",
    "    1) Import the necessary libraries for the project.\n",
    "    2) Define the functions that will faciliate the data engineering.\n",
    "    3) Create variables to define the url that will be requested. \n",
    "    4) Request 2023 intrastat commodity code data from url. \n",
    "    5) Parse the url content into a pandas dataframe.\n",
    "    6) Cleanse and transform data using pandas library functions.\n",
    "    7) Display the content as a pandas data frame.\n",
    "    8) Export the content to a csv file. \n"
   ]
  },
  {
   "cell_type": "markdown",
   "id": "a65e5e7d",
   "metadata": {},
   "source": [
    "#### Import Packages"
   ]
  },
  {
   "cell_type": "code",
   "execution_count": 4,
   "id": "15b39f23",
   "metadata": {},
   "outputs": [],
   "source": [
    "import pandas as pd # Data analysis package.\n",
    "import ssl # Secure sockets layer package.\n",
    "import urllib # Url handling module."
   ]
  },
  {
   "cell_type": "markdown",
   "id": "1da5f922",
   "metadata": {},
   "source": [
    "#### Define Methods"
   ]
  },
  {
   "cell_type": "code",
   "execution_count": 5,
   "id": "0ce609cc",
   "metadata": {},
   "outputs": [],
   "source": [
    "def read(url):\n",
    "    # Disable security certificate checks for url requests.\n",
    "    ssl._create_default_https_context = ssl._create_unverified_context\n",
    "    try:\n",
    "        # If URL is valid print confirmation.\n",
    "        urllib.request.urlopen(url)\n",
    "        print('Message: Requested URL is valid.')\n",
    "        # Read data into pandas dataframe.\n",
    "        df = pd.read_excel(url)\n",
    "    except urllib.error.HTTPError as e:\n",
    "        if e.code == 404:\n",
    "            print('Error: Requested commodity code url is invalid.')\n",
    "        else:\n",
    "            print('Message: Requested commodity code url is valid.')\n",
    "    return df\n",
    "\n",
    "def transform(df, column_rename):\n",
    "    # Pad left first column to CN8 format\n",
    "    df.iloc[:,0] = df.iloc[:,0].astype(\"str\").str.pad(8, side='left', fillchar='0')\n",
    "    # Rename first column to CN8. \n",
    "    df.columns.values[0] = column_rename\n",
    "    return df\n",
    "\n",
    "def export(file_name, df):\n",
    "    # Export to csv file \n",
    "    df.iloc[:,0] = df.iloc[:,0].astype(\"str\")\n",
    "    df.to_csv(file_name, index=False)\n",
    "    \n",
    "def rte_process(url, column_rename, file_name):\n",
    "    # Run full rte process and display csv output file.\n",
    "    df_request = read(url)\n",
    "    df_transform = transform(df_request, column_rename)\n",
    "    export(file_name,df_transform)\n",
    "    display(pd.read_csv(file_name, dtype=str))\n",
    "    \n"
   ]
  },
  {
   "cell_type": "markdown",
   "id": "b780a944",
   "metadata": {},
   "source": [
    "#### Define Main Function"
   ]
  },
  {
   "cell_type": "code",
   "execution_count": 6,
   "id": "56f974d7",
   "metadata": {},
   "outputs": [
    {
     "name": "stdout",
     "output_type": "stream",
     "text": [
      "Message: Requested URL is valid.\n"
     ]
    },
    {
     "data": {
      "text/html": [
       "<div>\n",
       "<style scoped>\n",
       "    .dataframe tbody tr th:only-of-type {\n",
       "        vertical-align: middle;\n",
       "    }\n",
       "\n",
       "    .dataframe tbody tr th {\n",
       "        vertical-align: top;\n",
       "    }\n",
       "\n",
       "    .dataframe thead th {\n",
       "        text-align: right;\n",
       "    }\n",
       "</style>\n",
       "<table border=\"1\" class=\"dataframe\">\n",
       "  <thead>\n",
       "    <tr style=\"text-align: right;\">\n",
       "      <th></th>\n",
       "      <th>CN8</th>\n",
       "      <th>SU</th>\n",
       "      <th>Description</th>\n",
       "    </tr>\n",
       "  </thead>\n",
       "  <tbody>\n",
       "    <tr>\n",
       "      <th>0</th>\n",
       "      <td>01012100</td>\n",
       "      <td>p/st</td>\n",
       "      <td>Pure-bred breeding horses</td>\n",
       "    </tr>\n",
       "    <tr>\n",
       "      <th>1</th>\n",
       "      <td>01012910</td>\n",
       "      <td>p/st</td>\n",
       "      <td>Horses for slaughter</td>\n",
       "    </tr>\n",
       "    <tr>\n",
       "      <th>2</th>\n",
       "      <td>01012990</td>\n",
       "      <td>p/st</td>\n",
       "      <td>Live horses (excl. for slaughter, pure-bred fo...</td>\n",
       "    </tr>\n",
       "    <tr>\n",
       "      <th>3</th>\n",
       "      <td>01013000</td>\n",
       "      <td>p/st</td>\n",
       "      <td>Live asses</td>\n",
       "    </tr>\n",
       "    <tr>\n",
       "      <th>4</th>\n",
       "      <td>01019000</td>\n",
       "      <td>p/st</td>\n",
       "      <td>Live mules and hinnies</td>\n",
       "    </tr>\n",
       "    <tr>\n",
       "      <th>...</th>\n",
       "      <td>...</td>\n",
       "      <td>...</td>\n",
       "      <td>...</td>\n",
       "    </tr>\n",
       "    <tr>\n",
       "      <th>9750</th>\n",
       "      <td>97052900</td>\n",
       "      <td>-</td>\n",
       "      <td>Collections and collectors? pieces of zoologic...</td>\n",
       "    </tr>\n",
       "    <tr>\n",
       "      <th>9751</th>\n",
       "      <td>97053100</td>\n",
       "      <td>-</td>\n",
       "      <td>Collections and collectors? pieces of numismat...</td>\n",
       "    </tr>\n",
       "    <tr>\n",
       "      <th>9752</th>\n",
       "      <td>97053900</td>\n",
       "      <td>-</td>\n",
       "      <td>Collections and collectors? pieces of numismat...</td>\n",
       "    </tr>\n",
       "    <tr>\n",
       "      <th>9753</th>\n",
       "      <td>97061000</td>\n",
       "      <td>-</td>\n",
       "      <td>Antiques, over 250 years old</td>\n",
       "    </tr>\n",
       "    <tr>\n",
       "      <th>9754</th>\n",
       "      <td>97069000</td>\n",
       "      <td>-</td>\n",
       "      <td>Antiques, over 100 but at most 250 years old</td>\n",
       "    </tr>\n",
       "  </tbody>\n",
       "</table>\n",
       "<p>9755 rows × 3 columns</p>\n",
       "</div>"
      ],
      "text/plain": [
       "           CN8    SU                                        Description\n",
       "0     01012100  p/st                          Pure-bred breeding horses\n",
       "1     01012910  p/st                               Horses for slaughter\n",
       "2     01012990  p/st  Live horses (excl. for slaughter, pure-bred fo...\n",
       "3     01013000  p/st                                         Live asses\n",
       "4     01019000  p/st                             Live mules and hinnies\n",
       "...        ...   ...                                                ...\n",
       "9750  97052900     -  Collections and collectors? pieces of zoologic...\n",
       "9751  97053100     -  Collections and collectors? pieces of numismat...\n",
       "9752  97053900     -  Collections and collectors? pieces of numismat...\n",
       "9753  97061000     -                       Antiques, over 250 years old\n",
       "9754  97069000     -       Antiques, over 100 but at most 250 years old\n",
       "\n",
       "[9755 rows x 3 columns]"
      ]
     },
     "metadata": {},
     "output_type": "display_data"
    }
   ],
   "source": [
    "def main():\n",
    "    # Define variables.\n",
    "    url = 'https://www.cbs.nl/-/media/cbsvooruwbedrijf/international-trade-in-goods/commoditycodes-2023.xlsx'\n",
    "    column_rename = 'CN8'\n",
    "    file_name = 'CN8 Codes.csv'\n",
    " \n",
    "    # Request data from URL, transform and export as CSV.\n",
    "    rte_process(url, column_rename, file_name)\n",
    "\n",
    "    \n",
    "# Run as program entry point if script is standalone and not module.\n",
    "if __name__==\"__main__\":\n",
    "    main()\n",
    "\n",
    "\n"
   ]
  }
 ],
 "metadata": {
  "kernelspec": {
   "display_name": "intrastat-fwJY38ui",
   "language": "python",
   "name": "python3"
  },
  "language_info": {
   "codemirror_mode": {
    "name": "ipython",
    "version": 3
   },
   "file_extension": ".py",
   "mimetype": "text/x-python",
   "name": "python",
   "nbconvert_exporter": "python",
   "pygments_lexer": "ipython3",
   "version": "3.10.8 (v3.10.8:aaaf517424, Oct 11 2022, 10:14:40) [Clang 13.0.0 (clang-1300.0.29.30)]"
  },
  "vscode": {
   "interpreter": {
    "hash": "86c5c851a26ca26e08eef8f6f7a24f8e4d377be128db51084d7b2eb253659a02"
   }
  }
 },
 "nbformat": 4,
 "nbformat_minor": 5
}
