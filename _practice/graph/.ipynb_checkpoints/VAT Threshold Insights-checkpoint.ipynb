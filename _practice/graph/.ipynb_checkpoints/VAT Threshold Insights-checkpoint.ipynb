{
 "cells": [
  {
   "cell_type": "code",
   "execution_count": 67,
   "id": "430f9959-b4fe-4fcb-bf62-f00cb68abbc5",
   "metadata": {},
   "outputs": [],
   "source": [
    "import pandas as pd\n",
    "import re \n",
    "from dash import Dash, dcc, html\n",
    "import plotly.express as px\n",
    "from base64 import b64encode\n",
    "import io\n",
    "\n",
    "df_data = pd.read_csv(\"MarketRevenueAnnual(Y).csv\", index_col = 'Year')\n",
    "df_thresh = pd.read_csv(\"ThresholdsVAT.csv\")\n",
    "\n",
    "def get_threshold(country):\n",
    "    df = df_thresh[df_thresh[\"Country\"] == country]\n",
    "    threshold = df['Threshold'].astype(int).iloc[0]\n",
    "    return threshold\n",
    "\n",
    "def is_breach_cond(turnover, threshold):\n",
    "    if turnover<threshold:\n",
    "        return False\n",
    "    else: return True\n",
    "\n",
    "def breach_calc(df,country):\n",
    "    threshold = get_threshold(country)\n",
    "    s_total = df[country].sum()\n",
    "    r_total = 0\n",
    "    for i in range (len(df)):\n",
    "        r_total+=df[country].astype(int).iloc[i]\n",
    "        if is_breach_cond(r_total,threshold):\n",
    "            return s_total, r_total, \n",
    "            break\n",
    "    return s_total,'-'\n",
    "\n",
    "# display(df_thresh)\n",
    "# display(df_data)\n",
    "countries = df_data.columns\n",
    "\n",
    "for i in countries:\n",
    "   breach_calc(df_data, i) \n",
    "\n",
    "\n",
    "\n"
   ]
  },
  {
   "cell_type": "code",
   "execution_count": null,
   "id": "37e2b624-de33-4ea4-ae81-56ec173edc21",
   "metadata": {},
   "outputs": [],
   "source": []
  }
 ],
 "metadata": {
  "kernelspec": {
   "display_name": "Python 3 (ipykernel)",
   "language": "python",
   "name": "python3"
  },
  "language_info": {
   "codemirror_mode": {
    "name": "ipython",
    "version": 3
   },
   "file_extension": ".py",
   "mimetype": "text/x-python",
   "name": "python",
   "nbconvert_exporter": "python",
   "pygments_lexer": "ipython3",
   "version": "3.10.8"
  }
 },
 "nbformat": 4,
 "nbformat_minor": 5
}
