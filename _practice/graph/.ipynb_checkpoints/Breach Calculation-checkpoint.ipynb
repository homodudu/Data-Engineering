{
 "cells": [
  {
   "cell_type": "code",
   "execution_count": 1,
   "id": "59f48b71-a754-4fec-b0cd-47cfb780a611",
   "metadata": {},
   "outputs": [
    {
     "data": {
      "text/plain": [
       "2022"
      ]
     },
     "execution_count": 1,
     "metadata": {},
     "output_type": "execute_result"
    }
   ],
   "source": [
    "import pandas as pd\n",
    "\n",
    "# Variables\n",
    "data = {'Year':[2020,2021,2022,2023], 'Turnover':[300, 500, 700, 900]}\n",
    "threshold = 1100\n",
    "df = pd.DataFrame(data)\n",
    "\n",
    "# Functions\n",
    "def breach_cond(threshold, turnover):\n",
    "    if turnover<threshold:\n",
    "        return False\n",
    "    else: return True\n",
    "    \n",
    "def breach_calc(df,threshold):\n",
    "    run_total = 0\n",
    "    for i in range(len(df)):\n",
    "        year = df['Year'].iloc[i] \n",
    "        turnover = run_total + df['Turnover'].iloc[i]\n",
    "        if breach_cond(threshold, turnover):\n",
    "            return year\n",
    "            break\n",
    "        else: run_total = turnover\n",
    "    return 'No Breach'\n",
    "\n",
    "# Main\n",
    "breach_calc(df,threshold)"
   ]
  },
  {
   "cell_type": "code",
   "execution_count": null,
   "id": "8dd1d2c1-1e71-410c-8907-cedc22d23c52",
   "metadata": {},
   "outputs": [],
   "source": []
  }
 ],
 "metadata": {
  "kernelspec": {
   "display_name": "Python 3 (ipykernel)",
   "language": "python",
   "name": "python3"
  },
  "language_info": {
   "codemirror_mode": {
    "name": "ipython",
    "version": 3
   },
   "file_extension": ".py",
   "mimetype": "text/x-python",
   "name": "python",
   "nbconvert_exporter": "python",
   "pygments_lexer": "ipython3",
   "version": "3.10.8"
  }
 },
 "nbformat": 4,
 "nbformat_minor": 5
}
