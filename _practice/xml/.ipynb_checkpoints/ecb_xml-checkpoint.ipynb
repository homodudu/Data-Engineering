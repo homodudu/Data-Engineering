{
 "cells": [
  {
   "cell_type": "code",
   "execution_count": 156,
   "id": "90134c43-0877-4bde-9323-ccffb7260d80",
   "metadata": {},
   "outputs": [],
   "source": [
    "import xml.etree.ElementTree as et\n",
    "\n",
    "# Create sample FX rate data and store in 3D list.\n",
    "t_list = ['2023-10-20','2023-10-19','2023-10-28']\n",
    "c_list = ['USD','USD','USD']\n",
    "r_list = ['1.0591','1.0565','1.0569']\n",
    "matrix = t_list,c_list,r_list\n",
    "\n",
    "# Function to parse 3D list into xml.\n",
    "def parse_cube_data(matrix):\n",
    "    # Unpack matrix data.\n",
    "    x,y,z = [m for m in matrix]\n",
    "    # Store xyz data within recursive sub elements.\n",
    "    cube = et.SubElement(root,'Cube')\n",
    "    for i,j,k in zip(x,y,z):\n",
    "        cube_sub = et.SubElement(cube, 'Cube',{'time':i})\n",
    "        et.SubElement(cube_sub, 'Cube',{'currency':j, 'rate':k})\n",
    "\n",
    "# Set namespaces.\n",
    "ns_map = {'gesmes': 'http://www.gesmes.org/xml/2002-08-01','': 'http://www.ecb.int/vocabulary/2002-08-01/eurofxref'}\n",
    "for prefix, uri in ns_map.items():\n",
    "    et.register_namespace(prefix, uri)\n",
    "    \n",
    "# Set root.\n",
    "root = et.Element(et.QName(ns_map[''], 'gesmes:Envelope'))\n",
    "\n",
    "# Set sub elements.\n",
    "et.SubElement(root,et.QName(ns_map['gesmes'], 'subject')).text = 'Reference rates'\n",
    "sender = et.SubElement(root,et.QName(ns_map['gesmes'], 'Sender'))\n",
    "et.SubElement(sender,et.QName(ns_map['gesmes'],'name')).text = 'European Central Bank'\n",
    "parse_cube_data(cube_list)        \n",
    "\n",
    "# Set tree and write output.\n",
    "tree = et.ElementTree(root)\n",
    "tree.write('ecb_output.xml', xml_declaration=True, encoding='utf-8')\n"
   ]
  }
 ],
 "metadata": {
  "kernelspec": {
   "display_name": "Python 3 (ipykernel)",
   "language": "python",
   "name": "python3"
  },
  "language_info": {
   "codemirror_mode": {
    "name": "ipython",
    "version": 3
   },
   "file_extension": ".py",
   "mimetype": "text/x-python",
   "name": "python",
   "nbconvert_exporter": "python",
   "pygments_lexer": "ipython3",
   "version": "3.10.8"
  }
 },
 "nbformat": 4,
 "nbformat_minor": 5
}
