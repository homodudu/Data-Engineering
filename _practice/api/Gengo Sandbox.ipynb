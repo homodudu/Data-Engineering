{
 "cells": [
  {
   "cell_type": "code",
   "execution_count": 1,
   "id": "162f5f58-9f16-4d53-9eb6-ff72f02c4c68",
   "metadata": {},
   "outputs": [
    {
     "name": "stdout",
     "output_type": "stream",
     "text": [
      "{\"opstat\":\"error\",\"err\":{\"msg\":\"Authentication failed\",\"code\":1000}}\n",
      "\n"
     ]
    }
   ],
   "source": [
    "import requests\n",
    "import pandas as pd\n",
    "import json\n",
    "import time\n",
    "from hashlib import sha1\n",
    "import hmac\n",
    "\n",
    "PUBLIC_KEY = \"lB3fm@mpej^F~l}SXrO31=P[ii1qcQ3|=hDf4P~KogY}7Qcw@^21I0tuiQByB^~1\"\n",
    "PRIVATE_KEY = \"4jJg~qypb60X-$ctbSB4[Nx{PBPSd0PW-G_hFPgxvyA33a6$vtQAQqyc9_n=pD{x\"\n",
    "\n",
    "BASE_URL = \"http://api.sandbox.gengo.com/v2/\"\n",
    "ENDPOINT_URL = \"translate/service/language_pairs\"\n",
    "RESPONSE_TYPE = 'json'\n",
    "\n",
    "header = {\"Accept\": f\"application/{RESPONSE_TYPE}\"}\n",
    "data = {\n",
    "    \"api_key\": PUBLIC_KEY,\n",
    "    \"api_sig\": PRIVATE_KEY,\n",
    "    \"ts\": str(int(time.time()))\n",
    "}\n",
    "\n",
    "# use your private_key to create an hmac\n",
    "data[\"api_sig\"] = hmac.new(\n",
    "    bytes(PUBLIC_KEY,encoding='utf8'),\n",
    "    bytes(data[\"ts\"],encoding='utf8'),\n",
    "    sha1\n",
    ").hexdigest()\n",
    "\n",
    "response_API = requests.get(f\"{BASE_URL}{ENDPOINT_URL}\", headers=header, params=data)\n",
    "\n",
    "print(response_API.text)\n",
    "\n",
    "\n",
    "\n"
   ]
  },
  {
   "cell_type": "code",
   "execution_count": null,
   "id": "512b359f-9eff-4ea0-bc5a-c342c6460768",
   "metadata": {},
   "outputs": [],
   "source": []
  },
  {
   "cell_type": "code",
   "execution_count": null,
   "id": "4fe9b44c-3f18-4fed-be05-43a5ae5f305c",
   "metadata": {},
   "outputs": [],
   "source": []
  }
 ],
 "metadata": {
  "kernelspec": {
   "display_name": "Python 3 (ipykernel)",
   "language": "python",
   "name": "python3"
  },
  "language_info": {
   "codemirror_mode": {
    "name": "ipython",
    "version": 3
   },
   "file_extension": ".py",
   "mimetype": "text/x-python",
   "name": "python",
   "nbconvert_exporter": "python",
   "pygments_lexer": "ipython3",
   "version": "3.10.8"
  }
 },
 "nbformat": 4,
 "nbformat_minor": 5
}
