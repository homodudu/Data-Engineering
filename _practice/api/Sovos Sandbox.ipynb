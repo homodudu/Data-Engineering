{
 "cells": [
  {
   "cell_type": "code",
   "execution_count": 4,
   "id": "162f5f58-9f16-4d53-9eb6-ff72f02c4c68",
   "metadata": {},
   "outputs": [
    {
     "name": "stdout",
     "output_type": "stream",
     "text": [
      "{'timestamp': 1701557435727, 'status': 401, 'success': False, 'message': 'Unauthorized', 'errors': [{'message': 'Client credentials are invalid', 'subCode': 'authorization.invalidCredentials'}]}\n"
     ]
    }
   ],
   "source": [
    "import requests\n",
    "import pandas as pd\n",
    "import json\n",
    "\n",
    "ACCESS_TOKEN_URL = \"https://api-test.sovos.com/oauth/token\"\n",
    "CLIENT_ID = f\"ApiKey\"\n",
    "CLIENT_SECRET = f\"SecretKey\"\n",
    "BASE_URL = \"https://api-test.sovos.com/oauth/token\"\n",
    "# ENDPOINTS = {\"user_info\" : \"/v1/identity/openidconnect/userinfo\",\n",
    "#              \"orders\" : \"/v2/checkout/orders\"}\n",
    "\n",
    "def get_access_token(url,client_id,client_secret):\n",
    "    headers = {\"Content-Type\": \"application/x-www-form-urlencoded\"}\n",
    "    params = {\"grant_type\": \"client_credentials\"}\n",
    "    response = requests.post(url=ACCESS_TOKEN_URL, \n",
    "                             headers = headers,\n",
    "                             data=params, \n",
    "                             auth=(CLIENT_ID, CLIENT_SECRET))\n",
    "    response_json = json.loads(response.text)\n",
    "    return response_json\n",
    "\n",
    "token = get_access_token(ACCESS_TOKEN_URL,CLIENT_ID,CLIENT_SECRET)\n",
    "\n",
    "print(token)\n",
    "\n",
    "\n",
    "\n"
   ]
  },
  {
   "cell_type": "code",
   "execution_count": null,
   "id": "67534131-0cfa-4c53-9f39-9f6b2d6898b3",
   "metadata": {},
   "outputs": [],
   "source": []
  }
 ],
 "metadata": {
  "kernelspec": {
   "display_name": "Python 3 (ipykernel)",
   "language": "python",
   "name": "python3"
  },
  "language_info": {
   "codemirror_mode": {
    "name": "ipython",
    "version": 3
   },
   "file_extension": ".py",
   "mimetype": "text/x-python",
   "name": "python",
   "nbconvert_exporter": "python",
   "pygments_lexer": "ipython3",
   "version": "3.10.8"
  }
 },
 "nbformat": 4,
 "nbformat_minor": 5
}
