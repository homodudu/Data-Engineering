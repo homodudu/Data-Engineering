{
 "cells": [
  {
   "cell_type": "code",
   "execution_count": 147,
   "id": "162f5f58-9f16-4d53-9eb6-ff72f02c4c68",
   "metadata": {},
   "outputs": [
    {
     "name": "stdout",
     "output_type": "stream",
     "text": [
      "Response time expires in: 30166\n",
      "https://www.paypal.com/webapps/auth/identity/user/Yh_w4W1Yiy64s-XzbepSu_B_sVufc1aPdc0j8uEnSQQ\n",
      "Order ID:32306193NF265525H Status:CREATED\n"
     ]
    }
   ],
   "source": [
    "import requests\n",
    "import pandas as pd\n",
    "import json\n",
    "\n",
    "df_cred = pd.read_csv(\"paypal_sandbox_cred.csv\")\n",
    "\n",
    "ACCESS_TOKEN_URL = \"https://api-m.sandbox.paypal.com/v1/oauth2/token\"\n",
    "CLIENT_ID = df_cred[\"CLIENT_ID\"][0]\n",
    "CLIENT_SECRET = df_cred[\"CLIENT_SECRET\"][0]\n",
    "BASE_URL = \"https://api-m.sandbox.paypal.com\"\n",
    "ENDPOINTS = {\"user_info\" : \"/v1/identity/openidconnect/userinfo\",\n",
    "             \"orders\" : \"/v2/checkout/orders\"}\n",
    "\n",
    "def get_access_token(url,client_id,client_secret):\n",
    "    headers = {\"Content-Type\": \"application/x-www-form-urlencoded\"}\n",
    "    params = {\"grant_type\": \"client_credentials\"}\n",
    "    response = requests.post(url=ACCESS_TOKEN_URL, \n",
    "                             headers=headers, \n",
    "                             data=params, \n",
    "                             auth=(CLIENT_ID, CLIENT_SECRET))\n",
    "    response_json = json.loads(response.text)\n",
    "    print(f\"Response time expires in: {response_json['expires_in']}\")\n",
    "    return response_json[\"access_token\"]\n",
    "\n",
    "def get_user_id(access_token):\n",
    "    endpoint_url = f\"{BASE_URL}{ENDPOINTS['user_info']}\"\n",
    "    headers = {\n",
    "        \"Authorization\": f\"Bearer {access_token}\",\n",
    "        \"Content-Type\": \"application/x-www-form-urlencoded\"\n",
    "    }\n",
    "    params = (('schema', 'openid'),)\n",
    "    response = requests.get(endpoint_url, headers=headers, params=params)\n",
    "    response_json = json.loads(response.text)\n",
    "    print(response_json[\"user_id\"])\n",
    "    return response_json[\"user_id\"]\n",
    "\n",
    "def create_order(access_token):\n",
    "    endpoint_url = f\"{BASE_URL}{ENDPOINTS['orders']}\"\n",
    "    headers = {\n",
    "        \"Authorization\": f\"Bearer {access_token}\",\n",
    "        'Content-Type': 'application/json',\n",
    "        'PayPal-Request-Id': 'test_order_001'\n",
    "    }\n",
    "    data = '{ \"intent\": \"CAPTURE\", \"purchase_units\": [ { \"amount\": { \"currency_code\": \"USD\", \"value\": \"100.00\" } } ]}'\n",
    "    response = requests.post(endpoint_url, headers=headers, data=data)\n",
    "    response_json = json.loads(response.text)\n",
    "    print(f\"Order ID:{response_json['id']} Status:{response_json['status']}\")\n",
    "    return response_json\n",
    "\n",
    "access_token = get_access_token(ACCESS_TOKEN_URL,CLIENT_ID,CLIENT_SECRET)\n",
    "user_info = get_user_id(access_token)\n",
    "order = create_order(access_token)\n",
    "\n",
    "df_cred = pd.DataFrame({\"CLIENT_ID\":[CLIENT_ID],\n",
    "                        \"CLIENT_SECRET\":[CLIENT_SECRET],\n",
    "                        \"ACCESS_TOKEN\":[access_token]})\n",
    "df_cred.to_csv(\"paypal_sandbox_cred.csv\", index=False)"
   ]
  },
  {
   "cell_type": "code",
   "execution_count": null,
   "id": "67534131-0cfa-4c53-9f39-9f6b2d6898b3",
   "metadata": {},
   "outputs": [],
   "source": []
  }
 ],
 "metadata": {
  "kernelspec": {
   "display_name": "Python 3 (ipykernel)",
   "language": "python",
   "name": "python3"
  },
  "language_info": {
   "codemirror_mode": {
    "name": "ipython",
    "version": 3
   },
   "file_extension": ".py",
   "mimetype": "text/x-python",
   "name": "python",
   "nbconvert_exporter": "python",
   "pygments_lexer": "ipython3",
   "version": "3.10.8"
  }
 },
 "nbformat": 4,
 "nbformat_minor": 5
}
